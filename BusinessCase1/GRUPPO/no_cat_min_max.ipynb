{
 "cells": [
  {
   "cell_type": "code",
   "execution_count": 1,
   "metadata": {},
   "outputs": [],
   "source": [
    "import os\n",
    "import pandas as pd\n",
    "import matplotlib.pyplot as plt\n",
    "import matplotlib.cm as cm\n",
    "import matplotlib.colors as clrs\n",
    "import numpy as np\n",
    "\n",
    "# Kmeans algorithm from scikit-learn\n",
    "# PER IL MACHINE LEARNING\n",
    "from sklearn.cluster import KMeans # K MEANS ALGORITMO DI APPLICAZIONE CLUSTERING\n",
    "from sklearn.metrics import silhouette_samples, silhouette_score #  UTILIZZO DISTANZA SILHOUTTE\n",
    "from sklearn.manifold import Isomap"
   ]
  },
  {
   "cell_type": "code",
   "execution_count": 2,
   "metadata": {},
   "outputs": [
    {
     "name": "stdout",
     "output_type": "stream",
     "text": [
      "(5000, 17)\n",
      "Size of the dataset (row, col):  (5000, 17)\n",
      "\n",
      "First 5 rows\n",
      "    Age  Gender  Job  Area  CitySize  FamilySize    Income    Wealth      Debt  \\\n",
      "0   24       1    1     2         2           4  0.668046  0.702786  0.262070   \n",
      "1   47       1    2     2         3           1  0.858453  0.915043  0.730430   \n",
      "2   38       0    2     1         2           2  0.926818  0.898316  0.441272   \n",
      "3   67       0    2     1         2           3  0.538797  0.423180  0.600401   \n",
      "4   33       0    2     1         3           1  0.806659  0.731404  0.831449   \n",
      "\n",
      "     FinEdu       ESG   Digital  BankFriend  LifeStyle    Luxury    Saving  \\\n",
      "0  0.741853  0.483684  0.698625    0.618259   0.607877  0.897369  0.283222   \n",
      "1  0.859423  0.537167  0.959025    0.785936   0.862271  0.913729  0.821590   \n",
      "2  0.485953  0.649434  0.750265    0.699725   0.755404  0.765199  0.503790   \n",
      "3  0.493144  0.533829  0.590165    0.675353   0.334432  0.517209  0.691240   \n",
      "4  0.856286  0.784940  0.710026    0.758793   0.908878  0.611610  0.615916   \n",
      "\n",
      "   Investments  \n",
      "0            1  \n",
      "1            3  \n",
      "2            3  \n",
      "3            2  \n",
      "4            2  \n"
     ]
    }
   ],
   "source": [
    "DATA_FOLDER = './'\n",
    "df_original = pd.read_excel(os.path.join(DATA_FOLDER, 'BankClients.xlsx'))\n",
    "\n",
    "df_new  = df_original.iloc[:, 1:]\n",
    "print(df_new.shape)\n",
    "# SEE THE STRUCTURE OF THE  DATA\n",
    "print(\"Size of the dataset (row, col): \", df_new.shape) # DEFINIZIONE DELLA STRUTTURA\n",
    "print(\"\\nFirst 5 rows\\n\", df_new.head(n=5))"
   ]
  },
  {
   "cell_type": "code",
   "execution_count": null,
   "metadata": {},
   "outputs": [],
   "source": [
    "df_created[5000][11]\n",
    "\n",
    "df_created[:, 0] = df_new[:, 0]\n",
    "\n",
    "\n",
    "\n"
   ]
  }
 ],
 "metadata": {
  "kernelspec": {
   "display_name": "base",
   "language": "python",
   "name": "python3"
  },
  "language_info": {
   "codemirror_mode": {
    "name": "ipython",
    "version": 3
   },
   "file_extension": ".py",
   "mimetype": "text/x-python",
   "name": "python",
   "nbconvert_exporter": "python",
   "pygments_lexer": "ipython3",
   "version": "3.8.5"
  },
  "orig_nbformat": 4
 },
 "nbformat": 4,
 "nbformat_minor": 2
}
