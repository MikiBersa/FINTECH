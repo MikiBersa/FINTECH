{
 "cells": [
  {
   "cell_type": "code",
   "execution_count": 70,
   "id": "f99091df",
   "metadata": {},
   "outputs": [],
   "source": [
    "import os\n",
    "import pandas as pd\n",
    "import matplotlib.pyplot as plt\n",
    "import matplotlib.cm as cm\n",
    "import matplotlib.colors as clrs\n",
    "import numpy as np\n",
    "\n",
    "# Kmeans algorithm from scikit-learn\n",
    "# PER IL MACHINE LEARNING\n",
    "from sklearn.cluster import KMeans # K MEANS ALGORITMO DI APPLICAZIONE CLUSTERING\n",
    "from sklearn.metrics import silhouette_samples, silhouette_score #  UTILIZZO DISTANZA SILHOUTTE\n",
    "from sklearn.manifold import Isomap"
   ]
  },
  {
   "cell_type": "code",
   "execution_count": 71,
   "id": "462b94e4",
   "metadata": {},
   "outputs": [
    {
     "name": "stdout",
     "output_type": "stream",
     "text": [
      "Size of the dataset (row, col):  (5000, 17)\n",
      "\n",
      "First 5 rows\n",
      "    Age  Gender  Job  Area  CitySize  FamilySize    Income    Wealth      Debt  \\\n",
      "0   24       1    1     2         2           4  0.668046  0.702786  0.262070   \n",
      "1   47       1    2     2         3           1  0.858453  0.915043  0.730430   \n",
      "2   38       0    2     1         2           2  0.926818  0.898316  0.441272   \n",
      "3   67       0    2     1         2           3  0.538797  0.423180  0.600401   \n",
      "4   33       0    2     1         3           1  0.806659  0.731404  0.831449   \n",
      "\n",
      "     FinEdu       ESG   Digital  BankFriend  LifeStyle    Luxury    Saving  \\\n",
      "0  0.741853  0.483684  0.698625    0.618259   0.607877  0.897369  0.283222   \n",
      "1  0.859423  0.537167  0.959025    0.785936   0.862271  0.913729  0.821590   \n",
      "2  0.485953  0.649434  0.750265    0.699725   0.755404  0.765199  0.503790   \n",
      "3  0.493144  0.533829  0.590165    0.675353   0.334432  0.517209  0.691240   \n",
      "4  0.856286  0.784940  0.710026    0.758793   0.908878  0.611610  0.615916   \n",
      "\n",
      "   Investments  \n",
      "0            1  \n",
      "1            3  \n",
      "2            3  \n",
      "3            2  \n",
      "4            2  \n"
     ]
    }
   ],
   "source": [
    "DATA_FOLDER = './'\n",
    "df = pd.read_excel(os.path.join(DATA_FOLDER, 'BankClients.xlsx'))\n",
    "\n",
    "df  = df.iloc[:, 1:]\n",
    "# SEE THE STRUCTURE OF THE  DATA\n",
    "print(\"Size of the dataset (row, col): \", df.shape) # DEFINIZIONE DELLA STRUTTURA\n",
    "print(\"\\nFirst 5 rows\\n\", df.head(n=5)) # "
   ]
  },
  {
   "cell_type": "code",
   "execution_count": 72,
   "id": "28bde5b2",
   "metadata": {},
   "outputs": [
    {
     "name": "stdout",
     "output_type": "stream",
     "text": [
      "Age            476.215983\n",
      "Gender           0.249255\n",
      "Job              1.562573\n",
      "Area             0.457266\n",
      "CitySize         0.582299\n",
      "FamilySize       1.981462\n",
      "Income           0.045356\n",
      "Wealth           0.046032\n",
      "Debt             0.050007\n",
      "FinEdu           0.034943\n",
      "ESG              0.028124\n",
      "Digital          0.045726\n",
      "BankFriend       0.026459\n",
      "LifeStyle        0.049001\n",
      "Luxury           0.057787\n",
      "Saving           0.034707\n",
      "Investments      0.670239\n",
      "dtype: float64\n"
     ]
    }
   ],
   "source": [
    "# Calculus of the variance for each column\n",
    "variance_per_column = df.var()\n",
    "print(variance_per_column)\n",
    "\n",
    "# How we can see there isn't a column with a constant value"
   ]
  },
  {
   "cell_type": "code",
   "execution_count": 73,
   "id": "de555a16-2e22-421c-be12-7b285b208abf",
   "metadata": {},
   "outputs": [
    {
     "name": "stdout",
     "output_type": "stream",
     "text": [
      "Duplicate rows:\n",
      "Empty DataFrame\n",
      "Columns: [Age, Gender, Job, Area, CitySize, FamilySize, Income, Wealth, Debt, FinEdu, ESG, Digital, BankFriend, LifeStyle, Luxury, Saving, Investments]\n",
      "Index: []\n"
     ]
    }
   ],
   "source": [
    "# Check for duplicate rows\n",
    "duplicate_rows = df[df.duplicated()]\n",
    "\n",
    "print(\"Duplicate rows:\")\n",
    "print(duplicate_rows)\n",
    "\n",
    "# No duplciation of the data in row"
   ]
  },
  {
   "cell_type": "code",
   "execution_count": 74,
   "id": "77eb18fb-19e4-4531-9373-ebca24d51283",
   "metadata": {},
   "outputs": [
    {
     "name": "stdout",
     "output_type": "stream",
     "text": [
      "\n",
      "Summary statistics\n",
      "                Age       Gender          Job         Area     CitySize  \\\n",
      "count  5000.000000  5000.000000  5000.000000  5000.000000  5000.000000   \n",
      "mean     60.450400     0.528200     2.463400     1.385000     1.926400   \n",
      "std      21.822373     0.499254     1.250029     0.676215     0.763086   \n",
      "min      19.000000     0.000000     1.000000     1.000000     1.000000   \n",
      "25%      42.000000     0.000000     2.000000     1.000000     1.000000   \n",
      "50%      61.000000     1.000000     2.000000     1.000000     2.000000   \n",
      "75%      80.000000     1.000000     2.000000     2.000000     3.000000   \n",
      "max      95.000000     1.000000     5.000000     3.000000     3.000000   \n",
      "\n",
      "        FamilySize       Income       Wealth         Debt       FinEdu  \\\n",
      "count  5000.000000  5000.000000  5000.000000  5000.000000  5000.000000   \n",
      "mean      2.488400     0.575839     0.579228     0.429462     0.511014   \n",
      "std       1.407644     0.212970     0.214550     0.223622     0.186931   \n",
      "min       1.000000     0.000000     0.000000     0.000000     0.000000   \n",
      "25%       1.000000     0.414879     0.415849     0.255883     0.369985   \n",
      "50%       2.000000     0.580220     0.588866     0.445857     0.504226   \n",
      "75%       3.000000     0.749568     0.750469     0.598060     0.654515   \n",
      "max       6.000000     0.983000     0.995597     0.976912     0.962526   \n",
      "\n",
      "               ESG      Digital   BankFriend    LifeStyle       Luxury  \\\n",
      "count  5000.000000  5000.000000  5000.000000  5000.000000  5000.000000   \n",
      "mean      0.587227     0.527558     0.619068     0.462401     0.474992   \n",
      "std       0.167703     0.213837     0.162662     0.221361     0.240388   \n",
      "min       0.043817     0.000000     0.123195     0.000000     0.000000   \n",
      "25%       0.466663     0.367967     0.505579     0.280951     0.273419   \n",
      "50%       0.599242     0.519185     0.625231     0.445644     0.458475   \n",
      "75%       0.710918     0.697408     0.747023     0.635747     0.663450   \n",
      "max       0.989520     0.971778     0.974230     0.992283     0.995914   \n",
      "\n",
      "            Saving  Investments  \n",
      "count  5000.000000  5000.000000  \n",
      "mean      0.521119     2.175200  \n",
      "std       0.186297     0.818681  \n",
      "min       0.000000     1.000000  \n",
      "25%       0.396462     1.000000  \n",
      "50%       0.538723     2.000000  \n",
      "75%       0.660904     3.000000  \n",
      "max       0.965525     3.000000  \n",
      "\n",
      "Correlation matrix\n",
      "                   Age    Gender       Job      Area  CitySize  FamilySize  \\\n",
      "Age          1.000000  0.007794  0.274090  0.035855 -0.186777    0.014992   \n",
      "Gender       0.007794  1.000000  0.046850 -0.002835  0.014900   -0.044651   \n",
      "Job          0.274090  0.046850  1.000000  0.020342 -0.079999   -0.113983   \n",
      "Area         0.035855 -0.002835  0.020342  1.000000 -0.078820    0.062170   \n",
      "CitySize    -0.186777  0.014900 -0.079999 -0.078820  1.000000   -0.144565   \n",
      "FamilySize   0.014992 -0.044651 -0.113983  0.062170 -0.144565    1.000000   \n",
      "Income      -0.246131 -0.062452 -0.282512 -0.068627  0.285918   -0.042231   \n",
      "Wealth      -0.232689 -0.055445 -0.275903 -0.041029  0.280336   -0.029367   \n",
      "Debt        -0.276705 -0.072954 -0.373959 -0.034738  0.162234    0.090870   \n",
      "FinEdu      -0.264600 -0.065522 -0.243546 -0.075355  0.307638   -0.054818   \n",
      "ESG         -0.015518  0.055743  0.116808 -0.066748  0.197064   -0.163187   \n",
      "Digital     -0.339443 -0.055334 -0.285328 -0.068970  0.350383   -0.035207   \n",
      "BankFriend  -0.030351 -0.059481  0.024686 -0.048457  0.190237   -0.078789   \n",
      "LifeStyle   -0.340992 -0.045534 -0.271241 -0.070647  0.331088   -0.069024   \n",
      "Luxury      -0.334571 -0.036537 -0.271092 -0.103940  0.384797   -0.087309   \n",
      "Saving      -0.192380 -0.026499 -0.312266 -0.036917  0.115143    0.037163   \n",
      "Investments -0.076537 -0.012580 -0.119225 -0.039841  0.060350    0.009228   \n",
      "\n",
      "               Income    Wealth      Debt    FinEdu       ESG   Digital  \\\n",
      "Age         -0.246131 -0.232689 -0.276705 -0.264600 -0.015518 -0.339443   \n",
      "Gender      -0.062452 -0.055445 -0.072954 -0.065522  0.055743 -0.055334   \n",
      "Job         -0.282512 -0.275903 -0.373959 -0.243546  0.116808 -0.285328   \n",
      "Area        -0.068627 -0.041029 -0.034738 -0.075355 -0.066748 -0.068970   \n",
      "CitySize     0.285918  0.280336  0.162234  0.307638  0.197064  0.350383   \n",
      "FamilySize  -0.042231 -0.029367  0.090870 -0.054818 -0.163187 -0.035207   \n",
      "Income       1.000000  0.444554  0.382063  0.468208  0.159406  0.453277   \n",
      "Wealth       0.444554  1.000000  0.370883  0.447758  0.148124  0.426560   \n",
      "Debt         0.382063  0.370883  1.000000  0.454548  0.029428  0.444549   \n",
      "FinEdu       0.468208  0.447758  0.454548  1.000000  0.177248  0.536211   \n",
      "ESG          0.159406  0.148124  0.029428  0.177248  1.000000  0.147595   \n",
      "Digital      0.453277  0.426560  0.444549  0.536211  0.147595  1.000000   \n",
      "BankFriend   0.285286  0.276321  0.084596  0.294841  0.219466  0.269339   \n",
      "LifeStyle    0.436663  0.413767  0.374575  0.490626  0.146156  0.566628   \n",
      "Luxury       0.511609  0.502237  0.384621  0.517221  0.182952  0.538525   \n",
      "Saving       0.333394  0.347787  0.442404  0.336871  0.116921  0.285439   \n",
      "Investments  0.133239  0.129507  0.176034  0.149702  0.040760  0.110417   \n",
      "\n",
      "             BankFriend  LifeStyle    Luxury    Saving  Investments  \n",
      "Age           -0.030351  -0.340992 -0.334571 -0.192380    -0.076537  \n",
      "Gender        -0.059481  -0.045534 -0.036537 -0.026499    -0.012580  \n",
      "Job            0.024686  -0.271241 -0.271092 -0.312266    -0.119225  \n",
      "Area          -0.048457  -0.070647 -0.103940 -0.036917    -0.039841  \n",
      "CitySize       0.190237   0.331088  0.384797  0.115143     0.060350  \n",
      "FamilySize    -0.078789  -0.069024 -0.087309  0.037163     0.009228  \n",
      "Income         0.285286   0.436663  0.511609  0.333394     0.133239  \n",
      "Wealth         0.276321   0.413767  0.502237  0.347787     0.129507  \n",
      "Debt           0.084596   0.374575  0.384621  0.442404     0.176034  \n",
      "FinEdu         0.294841   0.490626  0.517221  0.336871     0.149702  \n",
      "ESG            0.219466   0.146156  0.182952  0.116921     0.040760  \n",
      "Digital        0.269339   0.566628  0.538525  0.285439     0.110417  \n",
      "BankFriend     1.000000   0.239493  0.278217  0.044741     0.015021  \n",
      "LifeStyle      0.239493   1.000000  0.522982  0.256953     0.105151  \n",
      "Luxury         0.278217   0.522982  1.000000  0.308921     0.130568  \n",
      "Saving         0.044741   0.256953  0.308921  1.000000     0.165902  \n",
      "Investments    0.015021   0.105151  0.130568  0.165902     1.000000  \n"
     ]
    }
   ],
   "source": [
    "# print summary statistics\n",
    "print(\"\\nSummary statistics\\n\", df.describe())\n",
    "correlation = df.corr()\n",
    "print(\"\\nCorrelation matrix\\n\", df.corr())\n",
    "\n",
    "for raw in range(correlation.shape[0]):\n",
    "    for column in range(correlation.shape[1]):\n",
    "        if correlation.iloc[raw, column] >= 0.8 and raw != column:\n",
    "            print(\"High correlation between: \", df.columns[raw], \" and \", df.columns[column], \" with value: \", correlation.iloc[raw, column])\n",
    "\n",
    "# We can see there isn't a correlation between feature "
   ]
  },
  {
   "cell_type": "code",
   "execution_count": 75,
   "id": "fe575766-c069-412c-9e16-0957edb62c44",
   "metadata": {},
   "outputs": [
    {
     "name": "stdout",
     "output_type": "stream",
     "text": [
      "        Age    Gender       Job      Area  CitySize  FamilySize    Income  \\\n",
      "0 -1.670322  0.945010 -1.170693  0.909474  0.096451    1.073851  0.432958   \n",
      "1 -0.616358  0.945010 -0.370711  0.909474  1.406920   -1.057370  1.327018   \n",
      "2 -1.028779 -1.057978 -0.370711 -0.569346  0.096451   -0.346963  1.648024   \n",
      "3  0.300132 -1.057978 -0.370711 -0.569346  0.096451    0.363444 -0.173930   \n",
      "4 -1.257902 -1.057978 -0.370711 -0.569346  1.406920   -1.057370  1.083816   \n",
      "\n",
      "     Wealth      Debt    FinEdu       ESG   Digital  BankFriend  LifeStyle  \\\n",
      "0  0.575893 -0.748548  1.234886 -0.617422  0.799985   -0.004974   0.657188   \n",
      "1  1.565204  1.345880  1.863839 -0.298508  2.017734    1.025858   1.806418   \n",
      "2  1.487238  0.052813 -0.134065  0.370932  1.041480    0.495854   1.323643   \n",
      "3 -0.727327  0.764410 -0.095600 -0.318409  0.292778    0.346024  -0.578101   \n",
      "4  0.709278  1.797620  1.847059  1.178947  0.853301    0.858988   2.016965   \n",
      "\n",
      "     Luxury    Saving  Investments  \n",
      "0  1.757065 -1.276977    -1.435479  \n",
      "1  1.825118  1.612855     1.007474  \n",
      "2  1.207244 -0.093019     1.007474  \n",
      "3  0.175620  0.913168    -0.214003  \n",
      "4  0.568325  0.508846    -0.214003  \n"
     ]
    }
   ],
   "source": [
    "# Here we compute the Z - scaling\n",
    "X = df\n",
    "X = (X - X.mean()) / X.std()\n",
    "print(X.head(5))"
   ]
  },
  {
   "cell_type": "code",
   "execution_count": 76,
   "id": "33ccb76b-b9c3-4cd3-904e-2875703b4d04",
   "metadata": {},
   "outputs": [
    {
     "name": "stderr",
     "output_type": "stream",
     "text": [
      "/Users/michelebersani/opt/anaconda3/lib/python3.8/site-packages/sklearn/cluster/_kmeans.py:1416: FutureWarning: The default value of `n_init` will change from 10 to 'auto' in 1.4. Set the value of `n_init` explicitly to suppress the warning\n",
      "  super()._check_params_vs_input(X, default_n_init=10)\n",
      "/Users/michelebersani/opt/anaconda3/lib/python3.8/site-packages/sklearn/cluster/_kmeans.py:1416: FutureWarning: The default value of `n_init` will change from 10 to 'auto' in 1.4. Set the value of `n_init` explicitly to suppress the warning\n",
      "  super()._check_params_vs_input(X, default_n_init=10)\n",
      "/Users/michelebersani/opt/anaconda3/lib/python3.8/site-packages/sklearn/cluster/_kmeans.py:1416: FutureWarning: The default value of `n_init` will change from 10 to 'auto' in 1.4. Set the value of `n_init` explicitly to suppress the warning\n",
      "  super()._check_params_vs_input(X, default_n_init=10)\n",
      "/Users/michelebersani/opt/anaconda3/lib/python3.8/site-packages/sklearn/cluster/_kmeans.py:1416: FutureWarning: The default value of `n_init` will change from 10 to 'auto' in 1.4. Set the value of `n_init` explicitly to suppress the warning\n",
      "  super()._check_params_vs_input(X, default_n_init=10)\n",
      "/Users/michelebersani/opt/anaconda3/lib/python3.8/site-packages/sklearn/cluster/_kmeans.py:1416: FutureWarning: The default value of `n_init` will change from 10 to 'auto' in 1.4. Set the value of `n_init` explicitly to suppress the warning\n",
      "  super()._check_params_vs_input(X, default_n_init=10)\n",
      "/Users/michelebersani/opt/anaconda3/lib/python3.8/site-packages/sklearn/cluster/_kmeans.py:1416: FutureWarning: The default value of `n_init` will change from 10 to 'auto' in 1.4. Set the value of `n_init` explicitly to suppress the warning\n",
      "  super()._check_params_vs_input(X, default_n_init=10)\n",
      "/Users/michelebersani/opt/anaconda3/lib/python3.8/site-packages/sklearn/cluster/_kmeans.py:1416: FutureWarning: The default value of `n_init` will change from 10 to 'auto' in 1.4. Set the value of `n_init` explicitly to suppress the warning\n",
      "  super()._check_params_vs_input(X, default_n_init=10)\n",
      "/Users/michelebersani/opt/anaconda3/lib/python3.8/site-packages/sklearn/cluster/_kmeans.py:1416: FutureWarning: The default value of `n_init` will change from 10 to 'auto' in 1.4. Set the value of `n_init` explicitly to suppress the warning\n",
      "  super()._check_params_vs_input(X, default_n_init=10)\n",
      "/Users/michelebersani/opt/anaconda3/lib/python3.8/site-packages/sklearn/cluster/_kmeans.py:1416: FutureWarning: The default value of `n_init` will change from 10 to 'auto' in 1.4. Set the value of `n_init` explicitly to suppress the warning\n",
      "  super()._check_params_vs_input(X, default_n_init=10)\n",
      "/Users/michelebersani/opt/anaconda3/lib/python3.8/site-packages/sklearn/cluster/_kmeans.py:1416: FutureWarning: The default value of `n_init` will change from 10 to 'auto' in 1.4. Set the value of `n_init` explicitly to suppress the warning\n",
      "  super()._check_params_vs_input(X, default_n_init=10)\n",
      "/Users/michelebersani/opt/anaconda3/lib/python3.8/site-packages/sklearn/cluster/_kmeans.py:1416: FutureWarning: The default value of `n_init` will change from 10 to 'auto' in 1.4. Set the value of `n_init` explicitly to suppress the warning\n",
      "  super()._check_params_vs_input(X, default_n_init=10)\n",
      "/Users/michelebersani/opt/anaconda3/lib/python3.8/site-packages/sklearn/cluster/_kmeans.py:1416: FutureWarning: The default value of `n_init` will change from 10 to 'auto' in 1.4. Set the value of `n_init` explicitly to suppress the warning\n",
      "  super()._check_params_vs_input(X, default_n_init=10)\n",
      "/Users/michelebersani/opt/anaconda3/lib/python3.8/site-packages/sklearn/cluster/_kmeans.py:1416: FutureWarning: The default value of `n_init` will change from 10 to 'auto' in 1.4. Set the value of `n_init` explicitly to suppress the warning\n",
      "  super()._check_params_vs_input(X, default_n_init=10)\n",
      "/Users/michelebersani/opt/anaconda3/lib/python3.8/site-packages/sklearn/cluster/_kmeans.py:1416: FutureWarning: The default value of `n_init` will change from 10 to 'auto' in 1.4. Set the value of `n_init` explicitly to suppress the warning\n",
      "  super()._check_params_vs_input(X, default_n_init=10)\n",
      "/Users/michelebersani/opt/anaconda3/lib/python3.8/site-packages/sklearn/cluster/_kmeans.py:1416: FutureWarning: The default value of `n_init` will change from 10 to 'auto' in 1.4. Set the value of `n_init` explicitly to suppress the warning\n",
      "  super()._check_params_vs_input(X, default_n_init=10)\n",
      "/Users/michelebersani/opt/anaconda3/lib/python3.8/site-packages/sklearn/cluster/_kmeans.py:1416: FutureWarning: The default value of `n_init` will change from 10 to 'auto' in 1.4. Set the value of `n_init` explicitly to suppress the warning\n",
      "  super()._check_params_vs_input(X, default_n_init=10)\n",
      "/Users/michelebersani/opt/anaconda3/lib/python3.8/site-packages/sklearn/cluster/_kmeans.py:1416: FutureWarning: The default value of `n_init` will change from 10 to 'auto' in 1.4. Set the value of `n_init` explicitly to suppress the warning\n",
      "  super()._check_params_vs_input(X, default_n_init=10)\n",
      "/Users/michelebersani/opt/anaconda3/lib/python3.8/site-packages/sklearn/cluster/_kmeans.py:1416: FutureWarning: The default value of `n_init` will change from 10 to 'auto' in 1.4. Set the value of `n_init` explicitly to suppress the warning\n",
      "  super()._check_params_vs_input(X, default_n_init=10)\n",
      "/Users/michelebersani/opt/anaconda3/lib/python3.8/site-packages/sklearn/cluster/_kmeans.py:1416: FutureWarning: The default value of `n_init` will change from 10 to 'auto' in 1.4. Set the value of `n_init` explicitly to suppress the warning\n",
      "  super()._check_params_vs_input(X, default_n_init=10)\n"
     ]
    },
    {
     "data": {
      "image/png": "[encoded data removed]",
      "text/plain": [
       "<Figure size 640x480 with 1 Axes>"
      ]
     },
     "metadata": {},
     "output_type": "display_data"
    }
   ],
   "source": [
    "# create the clustering\n",
    "Ks = range(1, 20)\n",
    "inertia = [KMeans(i).fit(X).inertia_ for i in Ks]\n",
    "\n",
    "fig = plt.figure()\n",
    "plt.plot(Ks, inertia, '-bo')\n",
    "plt.xlabel('Number of clusters')\n",
    "plt.ylabel('Inertia (within-cluster sum of squares)')\n",
    "plt.show()"
   ]
  },
  {
   "cell_type": "code",
   "execution_count": 77,
   "id": "bce46011-1a2b-4f20-8c7f-76a8a8febead",
   "metadata": {},
   "outputs": [
    {
     "name": "stdout",
     "output_type": "stream",
     "text": [
      "inertia for k= 3  is 60497.9373112987\n",
      "cluster centers:  [[ 0.91582086  0.10511797  1.38643753  0.07347836 -0.35379847 -0.30797222\n",
      "  -0.94615257 -0.93561589 -1.33837354 -0.93306501  0.17810136 -1.03271806\n",
      "   0.09219284 -0.93834115 -0.96341632 -1.18807605 -0.44730339]\n",
      " [-0.55547402 -0.0345423  -0.24426672 -0.25460468  0.91472467 -0.39921487\n",
      "   0.91079469  0.84161548  0.56297672  1.04037666  0.63602817  1.09619479\n",
      "   0.69207686  1.02832832  1.12557654  0.40145225  0.22469664]\n",
      " [-0.04426076 -0.01836265 -0.33826813  0.09194094 -0.30121228  0.28130889\n",
      "  -0.10745309 -0.07941605  0.17779226 -0.17060802 -0.34688522 -0.16368936\n",
      "  -0.34452576 -0.16342042 -0.19950713  0.20251914  0.04280721]]\n",
      "cluster labels:  [1 1 1 ... 1 1 1]\n",
      "cluster centers:  [[ 0.91582086  0.10511797  1.38643753  0.07347836 -0.35379847 -0.30797222\n",
      "  -0.94615257 -0.93561589 -1.33837354 -0.93306501  0.17810136 -1.03271806\n",
      "   0.09219284 -0.93834115 -0.96341632 -1.18807605 -0.44730339]\n",
      " [-0.55547402 -0.0345423  -0.24426672 -0.25460468  0.91472467 -0.39921487\n",
      "   0.91079469  0.84161548  0.56297672  1.04037666  0.63602817  1.09619479\n",
      "   0.69207686  1.02832832  1.12557654  0.40145225  0.22469664]\n",
      " [-0.04426076 -0.01836265 -0.33826813  0.09194094 -0.30121228  0.28130889\n",
      "  -0.10745309 -0.07941605  0.17779226 -0.17060802 -0.34688522 -0.16368936\n",
      "  -0.34452576 -0.16342042 -0.19950713  0.20251914  0.04280721]]\n"
     ]
    },
    {
     "name": "stderr",
     "output_type": "stream",
     "text": [
      "/Users/michelebersani/opt/anaconda3/lib/python3.8/site-packages/sklearn/cluster/_kmeans.py:1416: FutureWarning: The default value of `n_init` will change from 10 to 'auto' in 1.4. Set the value of `n_init` explicitly to suppress the warning\n",
      "  super()._check_params_vs_input(X, default_n_init=10)\n"
     ]
    }
   ],
   "source": [
    "# We choose the k = 5\n",
    "k = 3\n",
    "# IMPOSTO random_state= 0 come punto di seed iniziale\n",
    "kmeans = KMeans(n_clusters=k, random_state=0)\n",
    "# creazione del cluster\n",
    "kmeans.fit(X)\n",
    "\n",
    "# print inertia & cluster center\n",
    "print(\"inertia for k=\",k,\" is\", kmeans.inertia_)\n",
    "# lista dei centri trovati\n",
    "print(\"cluster centers: \", kmeans.cluster_centers_)\n",
    "\n",
    "# take a quick look at the result\n",
    "# MI RITORNA LA LISTA ORDINATA E MI DICE PER QUALE CLUSTER APPARTIENE\n",
    "labels = kmeans.labels_\n",
    "centers = kmeans.cluster_centers_\n",
    "print(\"cluster labels: \", labels)\n",
    "print(\"cluster centers: \", centers)"
   ]
  },
  {
   "cell_type": "code",
   "execution_count": 78,
   "id": "7c5d2781-a6b9-448a-8921-3ac34b06cfad",
   "metadata": {},
   "outputs": [
    {
     "name": "stderr",
     "output_type": "stream",
     "text": [
      "/Users/michelebersani/opt/anaconda3/lib/python3.8/site-packages/sklearn/cluster/_kmeans.py:1416: FutureWarning: The default value of `n_init` will change from 10 to 'auto' in 1.4. Set the value of `n_init` explicitly to suppress the warning\n",
      "  super()._check_params_vs_input(X, default_n_init=10)\n"
     ]
    },
    {
     "name": "stdout",
     "output_type": "stream",
     "text": [
      "For n_clusters= 2 The average silhouette_score is : 0.16988770620375393\n"
     ]
    },
    {
     "name": "stderr",
     "output_type": "stream",
     "text": [
      "/Users/michelebersani/opt/anaconda3/lib/python3.8/site-packages/sklearn/cluster/_kmeans.py:1416: FutureWarning: The default value of `n_init` will change from 10 to 'auto' in 1.4. Set the value of `n_init` explicitly to suppress the warning\n",
      "  super()._check_params_vs_input(X, default_n_init=10)\n"
     ]
    },
    {
     "name": "stdout",
     "output_type": "stream",
     "text": [
      "For n_clusters= 3 The average silhouette_score is : 0.1614922731302753\n"
     ]
    },
    {
     "name": "stderr",
     "output_type": "stream",
     "text": [
      "/Users/michelebersani/opt/anaconda3/lib/python3.8/site-packages/sklearn/cluster/_kmeans.py:1416: FutureWarning: The default value of `n_init` will change from 10 to 'auto' in 1.4. Set the value of `n_init` explicitly to suppress the warning\n",
      "  super()._check_params_vs_input(X, default_n_init=10)\n"
     ]
    },
    {
     "name": "stdout",
     "output_type": "stream",
     "text": [
      "For n_clusters= 4 The average silhouette_score is : 0.14767607272264135\n"
     ]
    },
    {
     "name": "stderr",
     "output_type": "stream",
     "text": [
      "/Users/michelebersani/opt/anaconda3/lib/python3.8/site-packages/sklearn/cluster/_kmeans.py:1416: FutureWarning: The default value of `n_init` will change from 10 to 'auto' in 1.4. Set the value of `n_init` explicitly to suppress the warning\n",
      "  super()._check_params_vs_input(X, default_n_init=10)\n"
     ]
    },
    {
     "name": "stdout",
     "output_type": "stream",
     "text": [
      "For n_clusters= 5 The average silhouette_score is : 0.13171270128137036\n"
     ]
    },
    {
     "name": "stderr",
     "output_type": "stream",
     "text": [
      "/Users/michelebersani/opt/anaconda3/lib/python3.8/site-packages/sklearn/cluster/_kmeans.py:1416: FutureWarning: The default value of `n_init` will change from 10 to 'auto' in 1.4. Set the value of `n_init` explicitly to suppress the warning\n",
      "  super()._check_params_vs_input(X, default_n_init=10)\n"
     ]
    },
    {
     "name": "stdout",
     "output_type": "stream",
     "text": [
      "For n_clusters= 6 The average silhouette_score is : 0.12546885360874238\n"
     ]
    },
    {
     "name": "stderr",
     "output_type": "stream",
     "text": [
      "/Users/michelebersani/opt/anaconda3/lib/python3.8/site-packages/sklearn/cluster/_kmeans.py:1416: FutureWarning: The default value of `n_init` will change from 10 to 'auto' in 1.4. Set the value of `n_init` explicitly to suppress the warning\n",
      "  super()._check_params_vs_input(X, default_n_init=10)\n"
     ]
    },
    {
     "name": "stdout",
     "output_type": "stream",
     "text": [
      "For n_clusters= 7 The average silhouette_score is : 0.1226284525250132\n"
     ]
    },
    {
     "name": "stderr",
     "output_type": "stream",
     "text": [
      "/Users/michelebersani/opt/anaconda3/lib/python3.8/site-packages/sklearn/cluster/_kmeans.py:1416: FutureWarning: The default value of `n_init` will change from 10 to 'auto' in 1.4. Set the value of `n_init` explicitly to suppress the warning\n",
      "  super()._check_params_vs_input(X, default_n_init=10)\n"
     ]
    },
    {
     "name": "stdout",
     "output_type": "stream",
     "text": [
      "For n_clusters= 8 The average silhouette_score is : 0.1262132652252939\n"
     ]
    },
    {
     "name": "stderr",
     "output_type": "stream",
     "text": [
      "/Users/michelebersani/opt/anaconda3/lib/python3.8/site-packages/sklearn/cluster/_kmeans.py:1416: FutureWarning: The default value of `n_init` will change from 10 to 'auto' in 1.4. Set the value of `n_init` explicitly to suppress the warning\n",
      "  super()._check_params_vs_input(X, default_n_init=10)\n"
     ]
    },
    {
     "name": "stdout",
     "output_type": "stream",
     "text": [
      "For n_clusters= 9 The average silhouette_score is : 0.12215707686939102\n"
     ]
    },
    {
     "name": "stderr",
     "output_type": "stream",
     "text": [
      "/Users/michelebersani/opt/anaconda3/lib/python3.8/site-packages/sklearn/cluster/_kmeans.py:1416: FutureWarning: The default value of `n_init` will change from 10 to 'auto' in 1.4. Set the value of `n_init` explicitly to suppress the warning\n",
      "  super()._check_params_vs_input(X, default_n_init=10)\n"
     ]
    },
    {
     "name": "stdout",
     "output_type": "stream",
     "text": [
      "For n_clusters= 10 The average silhouette_score is : 0.12664678615484765\n",
      "Max value:  0.16988770620375393  with k:  0\n"
     ]
    }
   ],
   "source": [
    "# We verify with also the siluete method:\n",
    "results = []\n",
    "range_n_clusters=[2,3,4,5,6,7,8,9,10]\n",
    "for n_clusters in range_n_clusters:\n",
    "    clusterer=KMeans(n_clusters=n_clusters, random_state=0)\n",
    "    # COSì OTTENGO I LABEL\n",
    "    cluster_labels=clusterer.fit_predict(X)\n",
    "    # compio la silhouette everage score\n",
    "    silhouette_avg=silhouette_score(X,cluster_labels)\n",
    "    results.append(silhouette_avg)\n",
    "    print(\"For n_clusters=\", n_clusters,\n",
    "          \"The average silhouette_score is :\", silhouette_avg)\n",
    "\n",
    "print(\"Max value: \",np.max(results), \" with k: \", np.argmax(results))"
   ]
  },
  {
   "cell_type": "code",
   "execution_count": 82,
   "id": "5456aa50-c7e9-4d71-82ac-1252a9bb08a3",
   "metadata": {},
   "outputs": [
    {
     "ename": "ValueError",
     "evalue": "Expected n_neighbors <= n_samples,  but n_samples = 3, n_neighbors = 6",
     "output_type": "error",
     "traceback": [
      "\u001b[0;31m---------------------------------------------------------------------------\u001b[0m",
      "\u001b[0;31mValueError\u001b[0m                                Traceback (most recent call last)",
      "Cell \u001b[0;32mIn[82], line 11\u001b[0m\n\u001b[1;32m      9\u001b[0m X_reduced \u001b[38;5;241m=\u001b[39m isomap\u001b[38;5;241m.\u001b[39mfit_transform(X)\n\u001b[1;32m     10\u001b[0m isomap \u001b[38;5;241m=\u001b[39m Isomap(n_components\u001b[38;5;241m=\u001b[39m\u001b[38;5;241m6\u001b[39m)\n\u001b[0;32m---> 11\u001b[0m Centers_reduced \u001b[38;5;241m=\u001b[39m \u001b[43misomap\u001b[49m\u001b[38;5;241;43m.\u001b[39;49m\u001b[43mfit_transform\u001b[49m\u001b[43m(\u001b[49m\u001b[43mcenters\u001b[49m\u001b[43m)\u001b[49m\n\u001b[1;32m     13\u001b[0m \u001b[38;5;66;03m# Visualizza i dati ridotti in uno spazio tridimensionale\u001b[39;00m\n\u001b[1;32m     14\u001b[0m fig \u001b[38;5;241m=\u001b[39m plt\u001b[38;5;241m.\u001b[39mfigure(figsize\u001b[38;5;241m=\u001b[39m(\u001b[38;5;241m10\u001b[39m, \u001b[38;5;241m8\u001b[39m))\n",
      "File \u001b[0;32m~/opt/anaconda3/lib/python3.8/site-packages/sklearn/utils/_set_output.py:157\u001b[0m, in \u001b[0;36m_wrap_method_output.<locals>.wrapped\u001b[0;34m(self, X, *args, **kwargs)\u001b[0m\n\u001b[1;32m    155\u001b[0m \u001b[38;5;129m@wraps\u001b[39m(f)\n\u001b[1;32m    156\u001b[0m \u001b[38;5;28;01mdef\u001b[39;00m \u001b[38;5;21mwrapped\u001b[39m(\u001b[38;5;28mself\u001b[39m, X, \u001b[38;5;241m*\u001b[39margs, \u001b[38;5;241m*\u001b[39m\u001b[38;5;241m*\u001b[39mkwargs):\n\u001b[0;32m--> 157\u001b[0m     data_to_wrap \u001b[38;5;241m=\u001b[39m \u001b[43mf\u001b[49m\u001b[43m(\u001b[49m\u001b[38;5;28;43mself\u001b[39;49m\u001b[43m,\u001b[49m\u001b[43m \u001b[49m\u001b[43mX\u001b[49m\u001b[43m,\u001b[49m\u001b[43m \u001b[49m\u001b[38;5;241;43m*\u001b[39;49m\u001b[43margs\u001b[49m\u001b[43m,\u001b[49m\u001b[43m \u001b[49m\u001b[38;5;241;43m*\u001b[39;49m\u001b[38;5;241;43m*\u001b[39;49m\u001b[43mkwargs\u001b[49m\u001b[43m)\u001b[49m\n\u001b[1;32m    158\u001b[0m     \u001b[38;5;28;01mif\u001b[39;00m \u001b[38;5;28misinstance\u001b[39m(data_to_wrap, \u001b[38;5;28mtuple\u001b[39m):\n\u001b[1;32m    159\u001b[0m         \u001b[38;5;66;03m# only wrap the first output for cross decomposition\u001b[39;00m\n\u001b[1;32m    160\u001b[0m         return_tuple \u001b[38;5;241m=\u001b[39m (\n\u001b[1;32m    161\u001b[0m             _wrap_data_with_container(method, data_to_wrap[\u001b[38;5;241m0\u001b[39m], X, \u001b[38;5;28mself\u001b[39m),\n\u001b[1;32m    162\u001b[0m             \u001b[38;5;241m*\u001b[39mdata_to_wrap[\u001b[38;5;241m1\u001b[39m:],\n\u001b[1;32m    163\u001b[0m         )\n",
      "File \u001b[0;32m~/opt/anaconda3/lib/python3.8/site-packages/sklearn/base.py:1152\u001b[0m, in \u001b[0;36m_fit_context.<locals>.decorator.<locals>.wrapper\u001b[0;34m(estimator, *args, **kwargs)\u001b[0m\n\u001b[1;32m   1145\u001b[0m     estimator\u001b[38;5;241m.\u001b[39m_validate_params()\n\u001b[1;32m   1147\u001b[0m \u001b[38;5;28;01mwith\u001b[39;00m config_context(\n\u001b[1;32m   1148\u001b[0m     skip_parameter_validation\u001b[38;5;241m=\u001b[39m(\n\u001b[1;32m   1149\u001b[0m         prefer_skip_nested_validation \u001b[38;5;129;01mor\u001b[39;00m global_skip_validation\n\u001b[1;32m   1150\u001b[0m     )\n\u001b[1;32m   1151\u001b[0m ):\n\u001b[0;32m-> 1152\u001b[0m     \u001b[38;5;28;01mreturn\u001b[39;00m \u001b[43mfit_method\u001b[49m\u001b[43m(\u001b[49m\u001b[43mestimator\u001b[49m\u001b[43m,\u001b[49m\u001b[43m \u001b[49m\u001b[38;5;241;43m*\u001b[39;49m\u001b[43margs\u001b[49m\u001b[43m,\u001b[49m\u001b[43m \u001b[49m\u001b[38;5;241;43m*\u001b[39;49m\u001b[38;5;241;43m*\u001b[39;49m\u001b[43mkwargs\u001b[49m\u001b[43m)\u001b[49m\n",
      "File \u001b[0;32m~/opt/anaconda3/lib/python3.8/site-packages/sklearn/manifold/_isomap.py:383\u001b[0m, in \u001b[0;36mIsomap.fit_transform\u001b[0;34m(self, X, y)\u001b[0m\n\u001b[1;32m    362\u001b[0m \u001b[38;5;129m@_fit_context\u001b[39m(\n\u001b[1;32m    363\u001b[0m     \u001b[38;5;66;03m# Isomap.metric is not validated yet\u001b[39;00m\n\u001b[1;32m    364\u001b[0m     prefer_skip_nested_validation\u001b[38;5;241m=\u001b[39m\u001b[38;5;28;01mFalse\u001b[39;00m\n\u001b[1;32m    365\u001b[0m )\n\u001b[1;32m    366\u001b[0m \u001b[38;5;28;01mdef\u001b[39;00m \u001b[38;5;21mfit_transform\u001b[39m(\u001b[38;5;28mself\u001b[39m, X, y\u001b[38;5;241m=\u001b[39m\u001b[38;5;28;01mNone\u001b[39;00m):\n\u001b[1;32m    367\u001b[0m     \u001b[38;5;124;03m\"\"\"Fit the model from data in X and transform X.\u001b[39;00m\n\u001b[1;32m    368\u001b[0m \n\u001b[1;32m    369\u001b[0m \u001b[38;5;124;03m    Parameters\u001b[39;00m\n\u001b[0;32m   (...)\u001b[0m\n\u001b[1;32m    381\u001b[0m \u001b[38;5;124;03m        X transformed in the new space.\u001b[39;00m\n\u001b[1;32m    382\u001b[0m \u001b[38;5;124;03m    \"\"\"\u001b[39;00m\n\u001b[0;32m--> 383\u001b[0m     \u001b[38;5;28;43mself\u001b[39;49m\u001b[38;5;241;43m.\u001b[39;49m\u001b[43m_fit_transform\u001b[49m\u001b[43m(\u001b[49m\u001b[43mX\u001b[49m\u001b[43m)\u001b[49m\n\u001b[1;32m    384\u001b[0m     \u001b[38;5;28;01mreturn\u001b[39;00m \u001b[38;5;28mself\u001b[39m\u001b[38;5;241m.\u001b[39membedding_\n",
      "File \u001b[0;32m~/opt/anaconda3/lib/python3.8/site-packages/sklearn/manifold/_isomap.py:243\u001b[0m, in \u001b[0;36mIsomap._fit_transform\u001b[0;34m(self, X)\u001b[0m\n\u001b[1;32m    233\u001b[0m \u001b[38;5;28mself\u001b[39m\u001b[38;5;241m.\u001b[39mkernel_pca_ \u001b[38;5;241m=\u001b[39m KernelPCA(\n\u001b[1;32m    234\u001b[0m     n_components\u001b[38;5;241m=\u001b[39m\u001b[38;5;28mself\u001b[39m\u001b[38;5;241m.\u001b[39mn_components,\n\u001b[1;32m    235\u001b[0m     kernel\u001b[38;5;241m=\u001b[39m\u001b[38;5;124m\"\u001b[39m\u001b[38;5;124mprecomputed\u001b[39m\u001b[38;5;124m\"\u001b[39m,\n\u001b[0;32m   (...)\u001b[0m\n\u001b[1;32m    239\u001b[0m     n_jobs\u001b[38;5;241m=\u001b[39m\u001b[38;5;28mself\u001b[39m\u001b[38;5;241m.\u001b[39mn_jobs,\n\u001b[1;32m    240\u001b[0m )\u001b[38;5;241m.\u001b[39mset_output(transform\u001b[38;5;241m=\u001b[39m\u001b[38;5;124m\"\u001b[39m\u001b[38;5;124mdefault\u001b[39m\u001b[38;5;124m\"\u001b[39m)\n\u001b[1;32m    242\u001b[0m \u001b[38;5;28;01mif\u001b[39;00m \u001b[38;5;28mself\u001b[39m\u001b[38;5;241m.\u001b[39mn_neighbors \u001b[38;5;129;01mis\u001b[39;00m \u001b[38;5;129;01mnot\u001b[39;00m \u001b[38;5;28;01mNone\u001b[39;00m:\n\u001b[0;32m--> 243\u001b[0m     nbg \u001b[38;5;241m=\u001b[39m \u001b[43mkneighbors_graph\u001b[49m\u001b[43m(\u001b[49m\n\u001b[1;32m    244\u001b[0m \u001b[43m        \u001b[49m\u001b[38;5;28;43mself\u001b[39;49m\u001b[38;5;241;43m.\u001b[39;49m\u001b[43mnbrs_\u001b[49m\u001b[43m,\u001b[49m\n\u001b[1;32m    245\u001b[0m \u001b[43m        \u001b[49m\u001b[38;5;28;43mself\u001b[39;49m\u001b[38;5;241;43m.\u001b[39;49m\u001b[43mn_neighbors\u001b[49m\u001b[43m,\u001b[49m\n\u001b[1;32m    246\u001b[0m \u001b[43m        \u001b[49m\u001b[43mmetric\u001b[49m\u001b[38;5;241;43m=\u001b[39;49m\u001b[38;5;28;43mself\u001b[39;49m\u001b[38;5;241;43m.\u001b[39;49m\u001b[43mmetric\u001b[49m\u001b[43m,\u001b[49m\n\u001b[1;32m    247\u001b[0m \u001b[43m        \u001b[49m\u001b[43mp\u001b[49m\u001b[38;5;241;43m=\u001b[39;49m\u001b[38;5;28;43mself\u001b[39;49m\u001b[38;5;241;43m.\u001b[39;49m\u001b[43mp\u001b[49m\u001b[43m,\u001b[49m\n\u001b[1;32m    248\u001b[0m \u001b[43m        \u001b[49m\u001b[43mmetric_params\u001b[49m\u001b[38;5;241;43m=\u001b[39;49m\u001b[38;5;28;43mself\u001b[39;49m\u001b[38;5;241;43m.\u001b[39;49m\u001b[43mmetric_params\u001b[49m\u001b[43m,\u001b[49m\n\u001b[1;32m    249\u001b[0m \u001b[43m        \u001b[49m\u001b[43mmode\u001b[49m\u001b[38;5;241;43m=\u001b[39;49m\u001b[38;5;124;43m\"\u001b[39;49m\u001b[38;5;124;43mdistance\u001b[39;49m\u001b[38;5;124;43m\"\u001b[39;49m\u001b[43m,\u001b[49m\n\u001b[1;32m    250\u001b[0m \u001b[43m        \u001b[49m\u001b[43mn_jobs\u001b[49m\u001b[38;5;241;43m=\u001b[39;49m\u001b[38;5;28;43mself\u001b[39;49m\u001b[38;5;241;43m.\u001b[39;49m\u001b[43mn_jobs\u001b[49m\u001b[43m,\u001b[49m\n\u001b[1;32m    251\u001b[0m \u001b[43m    \u001b[49m\u001b[43m)\u001b[49m\n\u001b[1;32m    252\u001b[0m \u001b[38;5;28;01melse\u001b[39;00m:\n\u001b[1;32m    253\u001b[0m     nbg \u001b[38;5;241m=\u001b[39m radius_neighbors_graph(\n\u001b[1;32m    254\u001b[0m         \u001b[38;5;28mself\u001b[39m\u001b[38;5;241m.\u001b[39mnbrs_,\n\u001b[1;32m    255\u001b[0m         radius\u001b[38;5;241m=\u001b[39m\u001b[38;5;28mself\u001b[39m\u001b[38;5;241m.\u001b[39mradius,\n\u001b[0;32m   (...)\u001b[0m\n\u001b[1;32m    260\u001b[0m         n_jobs\u001b[38;5;241m=\u001b[39m\u001b[38;5;28mself\u001b[39m\u001b[38;5;241m.\u001b[39mn_jobs,\n\u001b[1;32m    261\u001b[0m     )\n",
      "File \u001b[0;32m~/opt/anaconda3/lib/python3.8/site-packages/sklearn/neighbors/_graph.py:127\u001b[0m, in \u001b[0;36mkneighbors_graph\u001b[0;34m(X, n_neighbors, mode, metric, p, metric_params, include_self, n_jobs)\u001b[0m\n\u001b[1;32m    124\u001b[0m     _check_params(X, metric, p, metric_params)\n\u001b[1;32m    126\u001b[0m query \u001b[38;5;241m=\u001b[39m _query_include_self(X\u001b[38;5;241m.\u001b[39m_fit_X, include_self, mode)\n\u001b[0;32m--> 127\u001b[0m \u001b[38;5;28;01mreturn\u001b[39;00m \u001b[43mX\u001b[49m\u001b[38;5;241;43m.\u001b[39;49m\u001b[43mkneighbors_graph\u001b[49m\u001b[43m(\u001b[49m\u001b[43mX\u001b[49m\u001b[38;5;241;43m=\u001b[39;49m\u001b[43mquery\u001b[49m\u001b[43m,\u001b[49m\u001b[43m \u001b[49m\u001b[43mn_neighbors\u001b[49m\u001b[38;5;241;43m=\u001b[39;49m\u001b[43mn_neighbors\u001b[49m\u001b[43m,\u001b[49m\u001b[43m \u001b[49m\u001b[43mmode\u001b[49m\u001b[38;5;241;43m=\u001b[39;49m\u001b[43mmode\u001b[49m\u001b[43m)\u001b[49m\n",
      "File \u001b[0;32m~/opt/anaconda3/lib/python3.8/site-packages/sklearn/neighbors/_base.py:986\u001b[0m, in \u001b[0;36mKNeighborsMixin.kneighbors_graph\u001b[0;34m(self, X, n_neighbors, mode)\u001b[0m\n\u001b[1;32m    983\u001b[0m     A_data \u001b[38;5;241m=\u001b[39m np\u001b[38;5;241m.\u001b[39mones(n_queries \u001b[38;5;241m*\u001b[39m n_neighbors)\n\u001b[1;32m    985\u001b[0m \u001b[38;5;28;01melif\u001b[39;00m mode \u001b[38;5;241m==\u001b[39m \u001b[38;5;124m\"\u001b[39m\u001b[38;5;124mdistance\u001b[39m\u001b[38;5;124m\"\u001b[39m:\n\u001b[0;32m--> 986\u001b[0m     A_data, A_ind \u001b[38;5;241m=\u001b[39m \u001b[38;5;28;43mself\u001b[39;49m\u001b[38;5;241;43m.\u001b[39;49m\u001b[43mkneighbors\u001b[49m\u001b[43m(\u001b[49m\u001b[43mX\u001b[49m\u001b[43m,\u001b[49m\u001b[43m \u001b[49m\u001b[43mn_neighbors\u001b[49m\u001b[43m,\u001b[49m\u001b[43m \u001b[49m\u001b[43mreturn_distance\u001b[49m\u001b[38;5;241;43m=\u001b[39;49m\u001b[38;5;28;43;01mTrue\u001b[39;49;00m\u001b[43m)\u001b[49m\n\u001b[1;32m    987\u001b[0m     A_data \u001b[38;5;241m=\u001b[39m np\u001b[38;5;241m.\u001b[39mravel(A_data)\n\u001b[1;32m    989\u001b[0m \u001b[38;5;28;01melse\u001b[39;00m:\n",
      "File \u001b[0;32m~/opt/anaconda3/lib/python3.8/site-packages/sklearn/neighbors/_base.py:808\u001b[0m, in \u001b[0;36mKNeighborsMixin.kneighbors\u001b[0;34m(self, X, n_neighbors, return_distance)\u001b[0m\n\u001b[1;32m    806\u001b[0m n_samples_fit \u001b[38;5;241m=\u001b[39m \u001b[38;5;28mself\u001b[39m\u001b[38;5;241m.\u001b[39mn_samples_fit_\n\u001b[1;32m    807\u001b[0m \u001b[38;5;28;01mif\u001b[39;00m n_neighbors \u001b[38;5;241m>\u001b[39m n_samples_fit:\n\u001b[0;32m--> 808\u001b[0m     \u001b[38;5;28;01mraise\u001b[39;00m \u001b[38;5;167;01mValueError\u001b[39;00m(\n\u001b[1;32m    809\u001b[0m         \u001b[38;5;124m\"\u001b[39m\u001b[38;5;124mExpected n_neighbors <= n_samples, \u001b[39m\u001b[38;5;124m\"\u001b[39m\n\u001b[1;32m    810\u001b[0m         \u001b[38;5;124m\"\u001b[39m\u001b[38;5;124m but n_samples = \u001b[39m\u001b[38;5;132;01m%d\u001b[39;00m\u001b[38;5;124m, n_neighbors = \u001b[39m\u001b[38;5;132;01m%d\u001b[39;00m\u001b[38;5;124m\"\u001b[39m \u001b[38;5;241m%\u001b[39m (n_samples_fit, n_neighbors)\n\u001b[1;32m    811\u001b[0m     )\n\u001b[1;32m    813\u001b[0m n_jobs \u001b[38;5;241m=\u001b[39m effective_n_jobs(\u001b[38;5;28mself\u001b[39m\u001b[38;5;241m.\u001b[39mn_jobs)\n\u001b[1;32m    814\u001b[0m chunked_results \u001b[38;5;241m=\u001b[39m \u001b[38;5;28;01mNone\u001b[39;00m\n",
      "\u001b[0;31mValueError\u001b[0m: Expected n_neighbors <= n_samples,  but n_samples = 3, n_neighbors = 6"
     ]
    }
   ],
   "source": [
    "# We can show the data:\n",
    "\n",
    "# set the colour\n",
    "norm = clrs.Normalize(vmin=0.,vmax=labels.max() + 0.8)\n",
    "cmap = cm.viridis\n",
    "\n",
    "# Riduci le dimensioni dei dati da cinque a tre dimensioni utilizzando Isomap\n",
    "isomap = Isomap(n_components=3)\n",
    "X_reduced = isomap.fit_transform(X)\n",
    "\n",
    "# Visualizza i dati ridotti in uno spazio tridimensionale\n",
    "fig = plt.figure(figsize=(10, 8))\n",
    "ax = fig.add_subplot(111, projection='3d')\n",
    "\n",
    "ax.scatter(X_reduced[:, 0], X_reduced[:, 1], X_reduced[:, 2], c=cmap(norm(y)), marker='o')\n",
    "ax.scatter(Centers_reduced[:, 0], Centers_reduced[:, 1], Centers_reduced[:, 2], c='black', s=100, alpha=0.5)\n",
    "\n",
    "ax.set_title('Riduzione dimensionale Isomap (da 5D a 3D)')\n",
    "plt.show()"
   ]
  },
  {
   "cell_type": "code",
   "execution_count": null,
   "id": "fadabc90-f56f-4051-b9fa-2976d426afd8",
   "metadata": {},
   "outputs": [],
   "source": []
  }
 ],
 "metadata": {
  "kernelspec": {
   "display_name": "Python 3 (ipykernel)",
   "language": "python",
   "name": "python3"
  },
  "language_info": {
   "codemirror_mode": {
    "name": "ipython",
    "version": 3
   },
   "file_extension": ".py",
   "mimetype": "text/x-python",
   "name": "python",
   "nbconvert_exporter": "python",
   "pygments_lexer": "ipython3",
   "version": "3.8.5"
  }
 },
 "nbformat": 4,
 "nbformat_minor": 5
}
