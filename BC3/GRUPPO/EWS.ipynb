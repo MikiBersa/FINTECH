{
 "cells": [
  {
   "cell_type": "markdown",
   "metadata": {},
   "source": [
    "# Early Warning System & Anomaly Detection"
   ]
  },
  {
   "cell_type": "code",
   "execution_count": 46,
   "metadata": {},
   "outputs": [],
   "source": [
    "# imports\n",
    "\n",
    "import numpy as np\n",
    "import pandas as pd\n",
    "import matplotlib.pyplot as plt\n",
    "import seaborn as sns\n",
    "from sklearn.preprocessing import MinMaxScaler\n",
    "from sklearn.decomposition import PCA\n",
    "from sklearn.metrics import precision_score, recall_score, accuracy_score, f1_score, roc_curve, roc_auc_score, confusion_matrix, make_scorer\n",
    "from sklearn.ensemble import IsolationForest\n",
    "from sklearn.svm import OneClassSVM\n",
    "from sklearn.neighbors import LocalOutlierFactor\n",
    "from sklearn.mixture import GaussianMixture\n",
    "from sklearn.model_selection import train_test_split, GridSearchCV"
   ]
  },
  {
   "cell_type": "code",
   "execution_count": 2,
   "metadata": {},
   "outputs": [
    {
     "data": {
      "text/html": [
       "<div>\n",
       "<style scoped>\n",
       "    .dataframe tbody tr th:only-of-type {\n",
       "        vertical-align: middle;\n",
       "    }\n",
       "\n",
       "    .dataframe tbody tr th {\n",
       "        vertical-align: top;\n",
       "    }\n",
       "\n",
       "    .dataframe thead th {\n",
       "        text-align: right;\n",
       "    }\n",
       "</style>\n",
       "<table border=\"1\" class=\"dataframe\">\n",
       "  <thead>\n",
       "    <tr style=\"text-align: right;\">\n",
       "      <th></th>\n",
       "      <th>XAU BGNL</th>\n",
       "      <th>ECSURPUS</th>\n",
       "      <th>BDIY</th>\n",
       "      <th>CRY</th>\n",
       "      <th>DXY</th>\n",
       "      <th>JPY</th>\n",
       "      <th>GBP</th>\n",
       "      <th>Cl1</th>\n",
       "      <th>VIX</th>\n",
       "      <th>USGG30YR</th>\n",
       "      <th>...</th>\n",
       "      <th>LP01TREU</th>\n",
       "      <th>EMUSTRUU</th>\n",
       "      <th>LF94TRUU</th>\n",
       "      <th>MXUS</th>\n",
       "      <th>MXEU</th>\n",
       "      <th>MXJP</th>\n",
       "      <th>MXBR</th>\n",
       "      <th>MXRU</th>\n",
       "      <th>MXIN</th>\n",
       "      <th>MXCN</th>\n",
       "    </tr>\n",
       "  </thead>\n",
       "  <tbody>\n",
       "    <tr>\n",
       "      <th>0</th>\n",
       "      <td>283.25</td>\n",
       "      <td>0.077</td>\n",
       "      <td>1388</td>\n",
       "      <td>157.26</td>\n",
       "      <td>100.56</td>\n",
       "      <td>105.86</td>\n",
       "      <td>1.6460</td>\n",
       "      <td>25.77</td>\n",
       "      <td>22.50</td>\n",
       "      <td>6.671</td>\n",
       "      <td>...</td>\n",
       "      <td>116.4635</td>\n",
       "      <td>230.5267</td>\n",
       "      <td>123.7616</td>\n",
       "      <td>1416.12</td>\n",
       "      <td>127.75</td>\n",
       "      <td>990.59</td>\n",
       "      <td>856.76</td>\n",
       "      <td>224.33</td>\n",
       "      <td>217.34</td>\n",
       "      <td>34.30</td>\n",
       "    </tr>\n",
       "    <tr>\n",
       "      <th>1</th>\n",
       "      <td>287.65</td>\n",
       "      <td>0.043</td>\n",
       "      <td>1405</td>\n",
       "      <td>165.01</td>\n",
       "      <td>101.86</td>\n",
       "      <td>105.47</td>\n",
       "      <td>1.6383</td>\n",
       "      <td>28.85</td>\n",
       "      <td>21.50</td>\n",
       "      <td>6.747</td>\n",
       "      <td>...</td>\n",
       "      <td>117.2674</td>\n",
       "      <td>231.3770</td>\n",
       "      <td>123.7616</td>\n",
       "      <td>1428.79</td>\n",
       "      <td>129.50</td>\n",
       "      <td>993.98</td>\n",
       "      <td>925.22</td>\n",
       "      <td>234.37</td>\n",
       "      <td>227.08</td>\n",
       "      <td>32.74</td>\n",
       "    </tr>\n",
       "    <tr>\n",
       "      <th>2</th>\n",
       "      <td>287.15</td>\n",
       "      <td>0.135</td>\n",
       "      <td>1368</td>\n",
       "      <td>167.24</td>\n",
       "      <td>102.41</td>\n",
       "      <td>106.04</td>\n",
       "      <td>1.6496</td>\n",
       "      <td>28.28</td>\n",
       "      <td>23.02</td>\n",
       "      <td>6.634</td>\n",
       "      <td>...</td>\n",
       "      <td>117.9946</td>\n",
       "      <td>232.3895</td>\n",
       "      <td>123.7616</td>\n",
       "      <td>1385.93</td>\n",
       "      <td>126.48</td>\n",
       "      <td>974.83</td>\n",
       "      <td>886.93</td>\n",
       "      <td>216.82</td>\n",
       "      <td>233.00</td>\n",
       "      <td>32.46</td>\n",
       "    </tr>\n",
       "    <tr>\n",
       "      <th>3</th>\n",
       "      <td>282.75</td>\n",
       "      <td>0.191</td>\n",
       "      <td>1311</td>\n",
       "      <td>166.85</td>\n",
       "      <td>104.92</td>\n",
       "      <td>107.85</td>\n",
       "      <td>1.6106</td>\n",
       "      <td>28.22</td>\n",
       "      <td>23.45</td>\n",
       "      <td>6.423</td>\n",
       "      <td>...</td>\n",
       "      <td>120.5100</td>\n",
       "      <td>231.9417</td>\n",
       "      <td>122.3281</td>\n",
       "      <td>1385.31</td>\n",
       "      <td>129.19</td>\n",
       "      <td>1007.12</td>\n",
       "      <td>842.60</td>\n",
       "      <td>201.89</td>\n",
       "      <td>237.48</td>\n",
       "      <td>31.29</td>\n",
       "    </tr>\n",
       "    <tr>\n",
       "      <th>4</th>\n",
       "      <td>298.40</td>\n",
       "      <td>0.312</td>\n",
       "      <td>1277</td>\n",
       "      <td>165.43</td>\n",
       "      <td>104.22</td>\n",
       "      <td>109.30</td>\n",
       "      <td>1.6108</td>\n",
       "      <td>28.02</td>\n",
       "      <td>21.25</td>\n",
       "      <td>6.231</td>\n",
       "      <td>...</td>\n",
       "      <td>118.7914</td>\n",
       "      <td>237.8117</td>\n",
       "      <td>122.3281</td>\n",
       "      <td>1411.95</td>\n",
       "      <td>134.67</td>\n",
       "      <td>1034.58</td>\n",
       "      <td>945.15</td>\n",
       "      <td>218.00</td>\n",
       "      <td>258.02</td>\n",
       "      <td>31.32</td>\n",
       "    </tr>\n",
       "  </tbody>\n",
       "</table>\n",
       "<p>5 rows × 42 columns</p>\n",
       "</div>"
      ],
      "text/plain": [
       "   XAU BGNL  ECSURPUS  BDIY     CRY     DXY     JPY     GBP    Cl1    VIX  \\\n",
       "0    283.25     0.077  1388  157.26  100.56  105.86  1.6460  25.77  22.50   \n",
       "1    287.65     0.043  1405  165.01  101.86  105.47  1.6383  28.85  21.50   \n",
       "2    287.15     0.135  1368  167.24  102.41  106.04  1.6496  28.28  23.02   \n",
       "3    282.75     0.191  1311  166.85  104.92  107.85  1.6106  28.22  23.45   \n",
       "4    298.40     0.312  1277  165.43  104.22  109.30  1.6108  28.02  21.25   \n",
       "\n",
       "   USGG30YR  ...  LP01TREU  EMUSTRUU  LF94TRUU     MXUS    MXEU     MXJP  \\\n",
       "0     6.671  ...  116.4635  230.5267  123.7616  1416.12  127.75   990.59   \n",
       "1     6.747  ...  117.2674  231.3770  123.7616  1428.79  129.50   993.98   \n",
       "2     6.634  ...  117.9946  232.3895  123.7616  1385.93  126.48   974.83   \n",
       "3     6.423  ...  120.5100  231.9417  122.3281  1385.31  129.19  1007.12   \n",
       "4     6.231  ...  118.7914  237.8117  122.3281  1411.95  134.67  1034.58   \n",
       "\n",
       "     MXBR    MXRU    MXIN   MXCN  \n",
       "0  856.76  224.33  217.34  34.30  \n",
       "1  925.22  234.37  227.08  32.74  \n",
       "2  886.93  216.82  233.00  32.46  \n",
       "3  842.60  201.89  237.48  31.29  \n",
       "4  945.15  218.00  258.02  31.32  \n",
       "\n",
       "[5 rows x 42 columns]"
      ]
     },
     "execution_count": 2,
     "metadata": {},
     "output_type": "execute_result"
    }
   ],
   "source": [
    "# data loading\n",
    "\n",
    "df = pd.read_excel('FinancialMarketData.xlsx', sheet_name='EWS')\n",
    "flag = df['Y'].values\n",
    "df = df.drop(['Data', 'Y'], axis=1)\n",
    "df = pd.DataFrame(df)\n",
    "df.head()"
   ]
  },
  {
   "cell_type": "markdown",
   "metadata": {},
   "source": [
    "## Data exploration and preprocessing\n",
    "1. Explorative analysis\n",
    "2. Data visualization\n",
    "3. Variables normalization"
   ]
  },
  {
   "cell_type": "code",
   "execution_count": 3,
   "metadata": {},
   "outputs": [
    {
     "data": {
      "text/html": [
       "<div>\n",
       "<style scoped>\n",
       "    .dataframe tbody tr th:only-of-type {\n",
       "        vertical-align: middle;\n",
       "    }\n",
       "\n",
       "    .dataframe tbody tr th {\n",
       "        vertical-align: top;\n",
       "    }\n",
       "\n",
       "    .dataframe thead th {\n",
       "        text-align: right;\n",
       "    }\n",
       "</style>\n",
       "<table border=\"1\" class=\"dataframe\">\n",
       "  <thead>\n",
       "    <tr style=\"text-align: right;\">\n",
       "      <th></th>\n",
       "      <th>XAU BGNL</th>\n",
       "      <th>ECSURPUS</th>\n",
       "      <th>BDIY</th>\n",
       "      <th>CRY</th>\n",
       "      <th>DXY</th>\n",
       "      <th>JPY</th>\n",
       "      <th>GBP</th>\n",
       "      <th>Cl1</th>\n",
       "      <th>VIX</th>\n",
       "      <th>USGG30YR</th>\n",
       "      <th>...</th>\n",
       "      <th>LP01TREU</th>\n",
       "      <th>EMUSTRUU</th>\n",
       "      <th>LF94TRUU</th>\n",
       "      <th>MXUS</th>\n",
       "      <th>MXEU</th>\n",
       "      <th>MXJP</th>\n",
       "      <th>MXBR</th>\n",
       "      <th>MXRU</th>\n",
       "      <th>MXIN</th>\n",
       "      <th>MXCN</th>\n",
       "    </tr>\n",
       "  </thead>\n",
       "  <tbody>\n",
       "    <tr>\n",
       "      <th>count</th>\n",
       "      <td>1111.000000</td>\n",
       "      <td>1111.000000</td>\n",
       "      <td>1111.000000</td>\n",
       "      <td>1111.000000</td>\n",
       "      <td>1111.000000</td>\n",
       "      <td>1111.000000</td>\n",
       "      <td>1111.000000</td>\n",
       "      <td>1111.000000</td>\n",
       "      <td>1111.000000</td>\n",
       "      <td>1111.000000</td>\n",
       "      <td>...</td>\n",
       "      <td>1111.000000</td>\n",
       "      <td>1111.000000</td>\n",
       "      <td>1111.000000</td>\n",
       "      <td>1111.000000</td>\n",
       "      <td>1111.000000</td>\n",
       "      <td>1111.000000</td>\n",
       "      <td>1111.000000</td>\n",
       "      <td>1111.000000</td>\n",
       "      <td>1111.000000</td>\n",
       "      <td>1111.000000</td>\n",
       "    </tr>\n",
       "    <tr>\n",
       "      <th>mean</th>\n",
       "      <td>987.463744</td>\n",
       "      <td>0.036153</td>\n",
       "      <td>2259.860486</td>\n",
       "      <td>245.247649</td>\n",
       "      <td>90.934982</td>\n",
       "      <td>106.605734</td>\n",
       "      <td>1.569618</td>\n",
       "      <td>60.708101</td>\n",
       "      <td>19.992169</td>\n",
       "      <td>3.908324</td>\n",
       "      <td>...</td>\n",
       "      <td>232.109928</td>\n",
       "      <td>704.379495</td>\n",
       "      <td>259.052663</td>\n",
       "      <td>1606.997102</td>\n",
       "      <td>107.877138</td>\n",
       "      <td>784.846292</td>\n",
       "      <td>1903.216436</td>\n",
       "      <td>648.681377</td>\n",
       "      <td>693.156616</td>\n",
       "      <td>53.933159</td>\n",
       "    </tr>\n",
       "    <tr>\n",
       "      <th>std</th>\n",
       "      <td>494.623740</td>\n",
       "      <td>0.349453</td>\n",
       "      <td>2017.811888</td>\n",
       "      <td>68.278081</td>\n",
       "      <td>11.379095</td>\n",
       "      <td>12.840754</td>\n",
       "      <td>0.212340</td>\n",
       "      <td>25.900813</td>\n",
       "      <td>8.642157</td>\n",
       "      <td>1.178592</td>\n",
       "      <td>...</td>\n",
       "      <td>109.917622</td>\n",
       "      <td>309.951768</td>\n",
       "      <td>75.934443</td>\n",
       "      <td>698.481956</td>\n",
       "      <td>20.795973</td>\n",
       "      <td>200.076443</td>\n",
       "      <td>986.468254</td>\n",
       "      <td>299.096020</td>\n",
       "      <td>405.527014</td>\n",
       "      <td>24.738356</td>\n",
       "    </tr>\n",
       "    <tr>\n",
       "      <th>min</th>\n",
       "      <td>256.680000</td>\n",
       "      <td>-0.974000</td>\n",
       "      <td>291.000000</td>\n",
       "      <td>106.292900</td>\n",
       "      <td>71.329000</td>\n",
       "      <td>75.940000</td>\n",
       "      <td>1.172300</td>\n",
       "      <td>10.010000</td>\n",
       "      <td>9.430000</td>\n",
       "      <td>1.162600</td>\n",
       "      <td>...</td>\n",
       "      <td>80.796800</td>\n",
       "      <td>230.526700</td>\n",
       "      <td>121.331000</td>\n",
       "      <td>663.690000</td>\n",
       "      <td>56.300000</td>\n",
       "      <td>431.710000</td>\n",
       "      <td>280.500000</td>\n",
       "      <td>151.250000</td>\n",
       "      <td>112.600000</td>\n",
       "      <td>13.460000</td>\n",
       "    </tr>\n",
       "    <tr>\n",
       "      <th>25%</th>\n",
       "      <td>433.740000</td>\n",
       "      <td>-0.191000</td>\n",
       "      <td>990.000000</td>\n",
       "      <td>184.705650</td>\n",
       "      <td>81.240500</td>\n",
       "      <td>101.565000</td>\n",
       "      <td>1.417900</td>\n",
       "      <td>39.625000</td>\n",
       "      <td>13.640000</td>\n",
       "      <td>2.959550</td>\n",
       "      <td>...</td>\n",
       "      <td>131.025000</td>\n",
       "      <td>434.660700</td>\n",
       "      <td>205.315550</td>\n",
       "      <td>1103.925000</td>\n",
       "      <td>90.605000</td>\n",
       "      <td>601.615000</td>\n",
       "      <td>1042.645000</td>\n",
       "      <td>463.195000</td>\n",
       "      <td>278.385000</td>\n",
       "      <td>28.565000</td>\n",
       "    </tr>\n",
       "    <tr>\n",
       "      <th>50%</th>\n",
       "      <td>1137.800000</td>\n",
       "      <td>0.035000</td>\n",
       "      <td>1518.000000</td>\n",
       "      <td>234.560000</td>\n",
       "      <td>89.716000</td>\n",
       "      <td>108.720000</td>\n",
       "      <td>1.562200</td>\n",
       "      <td>57.400000</td>\n",
       "      <td>17.980000</td>\n",
       "      <td>4.100400</td>\n",
       "      <td>...</td>\n",
       "      <td>213.205200</td>\n",
       "      <td>714.807100</td>\n",
       "      <td>264.770200</td>\n",
       "      <td>1324.430000</td>\n",
       "      <td>111.320000</td>\n",
       "      <td>786.830000</td>\n",
       "      <td>1860.960000</td>\n",
       "      <td>612.930000</td>\n",
       "      <td>691.530000</td>\n",
       "      <td>58.740000</td>\n",
       "    </tr>\n",
       "    <tr>\n",
       "      <th>75%</th>\n",
       "      <td>1324.825000</td>\n",
       "      <td>0.260500</td>\n",
       "      <td>2685.500000</td>\n",
       "      <td>301.539250</td>\n",
       "      <td>97.404000</td>\n",
       "      <td>116.220000</td>\n",
       "      <td>1.677050</td>\n",
       "      <td>79.640000</td>\n",
       "      <td>23.625000</td>\n",
       "      <td>4.844600</td>\n",
       "      <td>...</td>\n",
       "      <td>342.884600</td>\n",
       "      <td>939.824600</td>\n",
       "      <td>320.753150</td>\n",
       "      <td>1992.445000</td>\n",
       "      <td>126.470000</td>\n",
       "      <td>965.875000</td>\n",
       "      <td>2533.770000</td>\n",
       "      <td>793.620000</td>\n",
       "      <td>1014.750000</td>\n",
       "      <td>68.460000</td>\n",
       "    </tr>\n",
       "    <tr>\n",
       "      <th>max</th>\n",
       "      <td>2006.910000</td>\n",
       "      <td>0.991000</td>\n",
       "      <td>11793.000000</td>\n",
       "      <td>467.570000</td>\n",
       "      <td>119.820000</td>\n",
       "      <td>134.630000</td>\n",
       "      <td>2.085200</td>\n",
       "      <td>140.970000</td>\n",
       "      <td>75.910000</td>\n",
       "      <td>6.747000</td>\n",
       "      <td>...</td>\n",
       "      <td>431.552800</td>\n",
       "      <td>1286.353000</td>\n",
       "      <td>398.706500</td>\n",
       "      <td>4043.690000</td>\n",
       "      <td>146.390000</td>\n",
       "      <td>1210.580000</td>\n",
       "      <td>4721.360000</td>\n",
       "      <td>1617.640000</td>\n",
       "      <td>1730.510000</td>\n",
       "      <td>129.200000</td>\n",
       "    </tr>\n",
       "  </tbody>\n",
       "</table>\n",
       "<p>8 rows × 42 columns</p>\n",
       "</div>"
      ],
      "text/plain": [
       "          XAU BGNL     ECSURPUS          BDIY          CRY          DXY  \\\n",
       "count  1111.000000  1111.000000   1111.000000  1111.000000  1111.000000   \n",
       "mean    987.463744     0.036153   2259.860486   245.247649    90.934982   \n",
       "std     494.623740     0.349453   2017.811888    68.278081    11.379095   \n",
       "min     256.680000    -0.974000    291.000000   106.292900    71.329000   \n",
       "25%     433.740000    -0.191000    990.000000   184.705650    81.240500   \n",
       "50%    1137.800000     0.035000   1518.000000   234.560000    89.716000   \n",
       "75%    1324.825000     0.260500   2685.500000   301.539250    97.404000   \n",
       "max    2006.910000     0.991000  11793.000000   467.570000   119.820000   \n",
       "\n",
       "               JPY          GBP          Cl1          VIX     USGG30YR  ...  \\\n",
       "count  1111.000000  1111.000000  1111.000000  1111.000000  1111.000000  ...   \n",
       "mean    106.605734     1.569618    60.708101    19.992169     3.908324  ...   \n",
       "std      12.840754     0.212340    25.900813     8.642157     1.178592  ...   \n",
       "min      75.940000     1.172300    10.010000     9.430000     1.162600  ...   \n",
       "25%     101.565000     1.417900    39.625000    13.640000     2.959550  ...   \n",
       "50%     108.720000     1.562200    57.400000    17.980000     4.100400  ...   \n",
       "75%     116.220000     1.677050    79.640000    23.625000     4.844600  ...   \n",
       "max     134.630000     2.085200   140.970000    75.910000     6.747000  ...   \n",
       "\n",
       "          LP01TREU     EMUSTRUU     LF94TRUU         MXUS         MXEU  \\\n",
       "count  1111.000000  1111.000000  1111.000000  1111.000000  1111.000000   \n",
       "mean    232.109928   704.379495   259.052663  1606.997102   107.877138   \n",
       "std     109.917622   309.951768    75.934443   698.481956    20.795973   \n",
       "min      80.796800   230.526700   121.331000   663.690000    56.300000   \n",
       "25%     131.025000   434.660700   205.315550  1103.925000    90.605000   \n",
       "50%     213.205200   714.807100   264.770200  1324.430000   111.320000   \n",
       "75%     342.884600   939.824600   320.753150  1992.445000   126.470000   \n",
       "max     431.552800  1286.353000   398.706500  4043.690000   146.390000   \n",
       "\n",
       "              MXJP         MXBR         MXRU         MXIN         MXCN  \n",
       "count  1111.000000  1111.000000  1111.000000  1111.000000  1111.000000  \n",
       "mean    784.846292  1903.216436   648.681377   693.156616    53.933159  \n",
       "std     200.076443   986.468254   299.096020   405.527014    24.738356  \n",
       "min     431.710000   280.500000   151.250000   112.600000    13.460000  \n",
       "25%     601.615000  1042.645000   463.195000   278.385000    28.565000  \n",
       "50%     786.830000  1860.960000   612.930000   691.530000    58.740000  \n",
       "75%     965.875000  2533.770000   793.620000  1014.750000    68.460000  \n",
       "max    1210.580000  4721.360000  1617.640000  1730.510000   129.200000  \n",
       "\n",
       "[8 rows x 42 columns]"
      ]
     },
     "execution_count": 3,
     "metadata": {},
     "output_type": "execute_result"
    }
   ],
   "source": [
    "# descriptive statistics\n",
    "\n",
    "df.describe()"
   ]
  },
  {
   "cell_type": "code",
   "execution_count": 4,
   "metadata": {},
   "outputs": [
    {
     "data": {
      "image/png": "[encoded data removed]",
      "text/plain": [
       "<Figure size 640x480 with 2 Axes>"
      ]
     },
     "metadata": {},
     "output_type": "display_data"
    }
   ],
   "source": [
    "# correlation matrix\n",
    "\n",
    "corr_matrix = df.corr()\n",
    "sns.heatmap(corr_matrix, cmap='coolwarm')\n",
    "plt.show()"
   ]
  },
  {
   "cell_type": "code",
   "execution_count": 5,
   "metadata": {},
   "outputs": [],
   "source": [
    "# data normalization\n",
    "\n",
    "scaler = MinMaxScaler()\n",
    "df_normalized = scaler.fit_transform(df)\n",
    "df_normalized = pd.DataFrame(df_normalized, columns=df.columns)"
   ]
  },
  {
   "cell_type": "markdown",
   "metadata": {},
   "source": [
    "## Features selection (PCA)"
   ]
  },
  {
   "cell_type": "code",
   "execution_count": 6,
   "metadata": {},
   "outputs": [
    {
     "name": "stdout",
     "output_type": "stream",
     "text": [
      "Number of principal components: 6\n",
      "Explained variance: [0.67644534 0.13310893 0.0944113  0.02558578 0.01513424 0.01218573]\n"
     ]
    }
   ],
   "source": [
    "# principal component analysis\n",
    "\n",
    "pca = PCA(n_components=0.95)\n",
    "pca.fit(df_normalized)\n",
    "df_pc = pca.transform(df_normalized)\n",
    "\n",
    "print(\"Number of principal components:\", pca.n_components_)\n",
    "print(\"Explained variance:\", pca.explained_variance_ratio_)"
   ]
  },
  {
   "cell_type": "markdown",
   "metadata": {},
   "source": [
    "## Model selection (outlier detection)\n",
    "1. Isolation Forest\n",
    "2. One-Class SVM\n",
    "3. Local Outlier Factor\n",
    "4. Gaussian Mixture Model"
   ]
  },
  {
   "cell_type": "code",
   "execution_count": 7,
   "metadata": {},
   "outputs": [
    {
     "name": "stdout",
     "output_type": "stream",
     "text": [
      "Number of predicted anomalies: 304\n"
     ]
    }
   ],
   "source": [
    "# isolation forest\n",
    "\n",
    "isolation_forest = IsolationForest()\n",
    "isolation_forest.fit(df_pc)\n",
    "anomaly_predictions = isolation_forest.predict(df_pc)\n",
    "anomaly_predictions = np.array([1 if p == -1 else 0 for p in anomaly_predictions])\n",
    "\n",
    "num_anomalies_pred = np.sum(anomaly_predictions == 1)\n",
    "print(\"Number of predicted anomalies:\", num_anomalies_pred)"
   ]
  },
  {
   "cell_type": "code",
   "execution_count": 8,
   "metadata": {},
   "outputs": [
    {
     "name": "stdout",
     "output_type": "stream",
     "text": [
      "Precision: 0.4375\n",
      "Recall: 0.5611814345991561\n",
      "F1-score: 0.49168207024029575\n",
      "ROC AUC: 0.6827646303430563\n"
     ]
    }
   ],
   "source": [
    "# model evaluation\n",
    "\n",
    "precision = precision_score(flag, anomaly_predictions)\n",
    "recall = recall_score(flag, anomaly_predictions)\n",
    "f1 = f1_score(flag, anomaly_predictions)\n",
    "roc_auc = roc_auc_score(flag, anomaly_predictions)\n",
    "\n",
    "print(\"Precision:\", precision)\n",
    "print(\"Recall:\", recall)\n",
    "print(\"F1-score:\", f1)\n",
    "print(\"ROC AUC:\", roc_auc)"
   ]
  },
  {
   "cell_type": "code",
   "execution_count": 9,
   "metadata": {},
   "outputs": [
    {
     "name": "stdout",
     "output_type": "stream",
     "text": [
      "Number of predicted anomalies: 557\n"
     ]
    }
   ],
   "source": [
    "# one-class svm\n",
    "\n",
    "one_class_svm = OneClassSVM()\n",
    "one_class_svm.fit(df_pc)\n",
    "anomaly_predictions = one_class_svm.predict(df_pc)\n",
    "anomaly_predictions = np.array([1 if p == -1 else 0 for p in anomaly_predictions])\n",
    "\n",
    "num_anomalies_pred = np.sum(anomaly_predictions == 1)\n",
    "print(\"Number of predicted anomalies:\", num_anomalies_pred)"
   ]
  },
  {
   "cell_type": "code",
   "execution_count": 10,
   "metadata": {},
   "outputs": [
    {
     "name": "stdout",
     "output_type": "stream",
     "text": [
      "Precision: 0.3267504488330341\n",
      "Recall: 0.7679324894514767\n",
      "F1-score: 0.4584382871536523\n",
      "ROC AUC: 0.6694353522772258\n"
     ]
    }
   ],
   "source": [
    "# model evaluation\n",
    "\n",
    "precision = precision_score(flag, anomaly_predictions)\n",
    "recall = recall_score(flag, anomaly_predictions)\n",
    "f1 = f1_score(flag, anomaly_predictions)\n",
    "roc_auc = roc_auc_score(flag, anomaly_predictions)\n",
    "\n",
    "print(\"Precision:\", precision)\n",
    "print(\"Recall:\", recall)\n",
    "print(\"F1-score:\", f1)\n",
    "print(\"ROC AUC:\", roc_auc)"
   ]
  },
  {
   "cell_type": "code",
   "execution_count": 11,
   "metadata": {},
   "outputs": [
    {
     "name": "stdout",
     "output_type": "stream",
     "text": [
      "Number of predicted anomalies: 5\n"
     ]
    }
   ],
   "source": [
    "# local outlier factor\n",
    "\n",
    "lof = LocalOutlierFactor()\n",
    "lof.fit(df_pc)\n",
    "anomaly_predictions = lof.fit_predict(df_pc)\n",
    "anomaly_predictions = np.array([1 if p == -1 else 0 for p in anomaly_predictions])\n",
    "\n",
    "num_anomalies_pred = np.sum(anomaly_predictions == 1)\n",
    "print(\"Number of predicted anomalies:\", num_anomalies_pred)"
   ]
  },
  {
   "cell_type": "code",
   "execution_count": 12,
   "metadata": {},
   "outputs": [
    {
     "name": "stdout",
     "output_type": "stream",
     "text": [
      "Precision: 1.0\n",
      "Recall: 0.02109704641350211\n",
      "F1-score: 0.04132231404958678\n",
      "ROC AUC: 0.510548523206751\n"
     ]
    }
   ],
   "source": [
    "# model evaluation\n",
    "\n",
    "precision = precision_score(flag, anomaly_predictions)\n",
    "recall = recall_score(flag, anomaly_predictions)\n",
    "f1 = f1_score(flag, anomaly_predictions)\n",
    "roc_auc = roc_auc_score(flag, anomaly_predictions)\n",
    "\n",
    "print(\"Precision:\", precision)\n",
    "print(\"Recall:\", recall)\n",
    "print(\"F1-score:\", f1)\n",
    "print(\"ROC AUC:\", roc_auc)"
   ]
  },
  {
   "cell_type": "code",
   "execution_count": 13,
   "metadata": {},
   "outputs": [
    {
     "name": "stdout",
     "output_type": "stream",
     "text": [
      "Number of predicted anomalies: 66\n"
     ]
    }
   ],
   "source": [
    "# gaussian mixture model\n",
    "\n",
    "gmm = GaussianMixture(n_components=2)\n",
    "gmm.fit(df_pc)\n",
    "probs = gmm.predict_proba(df_pc)\n",
    "sum_probs = np.sum(probs, axis=1)\n",
    "threshold = np.percentile(sum_probs, 10)  # anomaly if the sum of probabilities is less than 0.1\n",
    "anomaly_predictions = (sum_probs < threshold).astype(int)\n",
    "\n",
    "num_anomalies_pred = np.sum(anomaly_predictions == 1)\n",
    "print(\"Number of predicted anomalies:\", num_anomalies_pred)"
   ]
  },
  {
   "cell_type": "code",
   "execution_count": 14,
   "metadata": {},
   "outputs": [
    {
     "name": "stdout",
     "output_type": "stream",
     "text": [
      "Precision: 0.2727272727272727\n",
      "Recall: 0.0759493670886076\n",
      "F1-score: 0.1188118811881188\n",
      "ROC AUC: 0.5105147293108941\n"
     ]
    }
   ],
   "source": [
    "# Calcola precision, recall e F1-score\n",
    "precision = precision_score(flag, anomaly_predictions)\n",
    "recall = recall_score(flag, anomaly_predictions)\n",
    "f1 = f1_score(flag, anomaly_predictions)\n",
    "roc_auc = roc_auc_score(flag, anomaly_predictions)\n",
    "\n",
    "print(\"Precision:\", precision)\n",
    "print(\"Recall:\", recall)\n",
    "print(\"F1-score:\", f1)\n",
    "print(\"ROC AUC:\", roc_auc)"
   ]
  },
  {
   "cell_type": "markdown",
   "metadata": {},
   "source": [
    "# Model training (isolation forest)"
   ]
  },
  {
   "cell_type": "code",
   "execution_count": 38,
   "metadata": {},
   "outputs": [
    {
     "data": {
      "text/html": [
       "<style>#sk-container-id-2 {color: black;}#sk-container-id-2 pre{padding: 0;}#sk-container-id-2 div.sk-toggleable {background-color: white;}#sk-container-id-2 label.sk-toggleable__label {cursor: pointer;display: block;width: 100%;margin-bottom: 0;padding: 0.3em;box-sizing: border-box;text-align: center;}#sk-container-id-2 label.sk-toggleable__label-arrow:before {content: \"▸\";float: left;margin-right: 0.25em;color: #696969;}#sk-container-id-2 label.sk-toggleable__label-arrow:hover:before {color: black;}#sk-container-id-2 div.sk-estimator:hover label.sk-toggleable__label-arrow:before {color: black;}#sk-container-id-2 div.sk-toggleable__content {max-height: 0;max-width: 0;overflow: hidden;text-align: left;background-color: #f0f8ff;}#sk-container-id-2 div.sk-toggleable__content pre {margin: 0.2em;color: black;border-radius: 0.25em;background-color: #f0f8ff;}#sk-container-id-2 input.sk-toggleable__control:checked~div.sk-toggleable__content {max-height: 200px;max-width: 100%;overflow: auto;}#sk-container-id-2 input.sk-toggleable__control:checked~label.sk-toggleable__label-arrow:before {content: \"▾\";}#sk-container-id-2 div.sk-estimator input.sk-toggleable__control:checked~label.sk-toggleable__label {background-color: #d4ebff;}#sk-container-id-2 div.sk-label input.sk-toggleable__control:checked~label.sk-toggleable__label {background-color: #d4ebff;}#sk-container-id-2 input.sk-hidden--visually {border: 0;clip: rect(1px 1px 1px 1px);clip: rect(1px, 1px, 1px, 1px);height: 1px;margin: -1px;overflow: hidden;padding: 0;position: absolute;width: 1px;}#sk-container-id-2 div.sk-estimator {font-family: monospace;background-color: #f0f8ff;border: 1px dotted black;border-radius: 0.25em;box-sizing: border-box;margin-bottom: 0.5em;}#sk-container-id-2 div.sk-estimator:hover {background-color: #d4ebff;}#sk-container-id-2 div.sk-parallel-item::after {content: \"\";width: 100%;border-bottom: 1px solid gray;flex-grow: 1;}#sk-container-id-2 div.sk-label:hover label.sk-toggleable__label {background-color: #d4ebff;}#sk-container-id-2 div.sk-serial::before {content: \"\";position: absolute;border-left: 1px solid gray;box-sizing: border-box;top: 0;bottom: 0;left: 50%;z-index: 0;}#sk-container-id-2 div.sk-serial {display: flex;flex-direction: column;align-items: center;background-color: white;padding-right: 0.2em;padding-left: 0.2em;position: relative;}#sk-container-id-2 div.sk-item {position: relative;z-index: 1;}#sk-container-id-2 div.sk-parallel {display: flex;align-items: stretch;justify-content: center;background-color: white;position: relative;}#sk-container-id-2 div.sk-item::before, #sk-container-id-2 div.sk-parallel-item::before {content: \"\";position: absolute;border-left: 1px solid gray;box-sizing: border-box;top: 0;bottom: 0;left: 50%;z-index: -1;}#sk-container-id-2 div.sk-parallel-item {display: flex;flex-direction: column;z-index: 1;position: relative;background-color: white;}#sk-container-id-2 div.sk-parallel-item:first-child::after {align-self: flex-end;width: 50%;}#sk-container-id-2 div.sk-parallel-item:last-child::after {align-self: flex-start;width: 50%;}#sk-container-id-2 div.sk-parallel-item:only-child::after {width: 0;}#sk-container-id-2 div.sk-dashed-wrapped {border: 1px dashed gray;margin: 0 0.4em 0.5em 0.4em;box-sizing: border-box;padding-bottom: 0.4em;background-color: white;}#sk-container-id-2 div.sk-label label {font-family: monospace;font-weight: bold;display: inline-block;line-height: 1.2em;}#sk-container-id-2 div.sk-label-container {text-align: center;}#sk-container-id-2 div.sk-container {/* jupyter's `normalize.less` sets `[hidden] { display: none; }` but bootstrap.min.css set `[hidden] { display: none !important; }` so we also need the `!important` here to be able to override the default hidden behavior on the sphinx rendered scikit-learn.org. See: https://github.com/scikit-learn/scikit-learn/issues/21755 */display: inline-block !important;position: relative;}#sk-container-id-2 div.sk-text-repr-fallback {display: none;}</style><div id=\"sk-container-id-2\" class=\"sk-top-container\"><div class=\"sk-text-repr-fallback\"><pre>IsolationForest()</pre><b>In a Jupyter environment, please rerun this cell to show the HTML representation or trust the notebook. <br />On GitHub, the HTML representation is unable to render, please try loading this page with nbviewer.org.</b></div><div class=\"sk-container\" hidden><div class=\"sk-item\"><div class=\"sk-estimator sk-toggleable\"><input class=\"sk-toggleable__control sk-hidden--visually\" id=\"sk-estimator-id-2\" type=\"checkbox\" checked><label for=\"sk-estimator-id-2\" class=\"sk-toggleable__label sk-toggleable__label-arrow\">IsolationForest</label><div class=\"sk-toggleable__content\"><pre>IsolationForest()</pre></div></div></div></div></div>"
      ],
      "text/plain": [
       "IsolationForest()"
      ]
     },
     "execution_count": 38,
     "metadata": {},
     "output_type": "execute_result"
    }
   ],
   "source": [
    "# training of the model\n",
    "\n",
    "X_train, X_test, y_train, y_test = train_test_split(df_pc, flag, test_size=0.2, random_state=42)\n",
    "X_train_normal = X_train[y_train == 0]\n",
    "y_train_normal = y_train[y_train == 0]\n",
    "\n",
    "isolation_forest = IsolationForest()\n",
    "isolation_forest.fit(X_train_normal)"
   ]
  },
  {
   "cell_type": "code",
   "execution_count": 16,
   "metadata": {},
   "outputs": [
    {
     "name": "stdout",
     "output_type": "stream",
     "text": [
      "Number of predicted anomalies: 87\n"
     ]
    }
   ],
   "source": [
    "# test the model\n",
    "\n",
    "anomaly_predictions = isolation_forest.predict(X_test)\n",
    "anomaly_predictions = np.array([1 if p == -1 else 0 for p in anomaly_predictions])\n",
    "\n",
    "num_anomalies_pred = np.sum(anomaly_predictions == 1)\n",
    "print(\"Number of predicted anomalies:\", num_anomalies_pred)"
   ]
  },
  {
   "cell_type": "code",
   "execution_count": 17,
   "metadata": {},
   "outputs": [
    {
     "name": "stdout",
     "output_type": "stream",
     "text": [
      "Precision: 0.3793103448275862\n",
      "Recall: 0.717391304347826\n",
      "F1-score: 0.49624060150375937\n",
      "ROC AUC: 0.7061532792925571\n"
     ]
    }
   ],
   "source": [
    "# model evaluation\n",
    "\n",
    "precision = precision_score(y_test, anomaly_predictions)\n",
    "recall = recall_score(y_test, anomaly_predictions)\n",
    "f1 = f1_score(y_test, anomaly_predictions)\n",
    "roc_auc = roc_auc_score(y_test, anomaly_predictions)\n",
    "\n",
    "print(\"Precision:\", precision)\n",
    "print(\"Recall:\", recall)\n",
    "print(\"F1-score:\", f1)\n",
    "print(\"ROC AUC:\", roc_auc)"
   ]
  },
  {
   "cell_type": "code",
   "execution_count": 23,
   "metadata": {},
   "outputs": [
    {
     "data": {
      "image/png": "[encoded data removed]",
      "text/plain": [
       "<Figure size 640x480 with 1 Axes>"
      ]
     },
     "metadata": {},
     "output_type": "display_data"
    }
   ],
   "source": [
    "# confusion matrix\n",
    "\n",
    "conf_matrix_test = confusion_matrix(y_test, anomaly_predictions)\n",
    "\n",
    "plt.figure()\n",
    "sns.heatmap(conf_matrix_test, annot=True, cmap='Blues', fmt='g', cbar=False)\n",
    "plt.xlabel('Predicted Labels')\n",
    "plt.ylabel('True Labels')\n",
    "plt.title('Confusion Matrix - Isolation Forest')\n",
    "plt.show()\n"
   ]
  },
  {
   "cell_type": "markdown",
   "metadata": {},
   "source": [
    "## Parameters tuning"
   ]
  },
  {
   "cell_type": "code",
   "execution_count": 69,
   "metadata": {},
   "outputs": [
    {
     "name": "stdout",
     "output_type": "stream",
     "text": [
      "Best Parameters: {'contamination': 0.2133, 'max_samples': 0.07, 'n_estimators': 10}\n",
      "Best Accuracy:  0.144093188598997\n"
     ]
    }
   ],
   "source": [
    "# grid search cross validation\n",
    "\n",
    "param_grid = {\n",
    "    'n_estimators': [10, 25, 50, 100],\n",
    "    'max_samples': [0.03, 0.05, 0.07, 0.1],\n",
    "    'contamination': [0.2133]\n",
    "}\n",
    "\n",
    "model = IsolationForest(random_state=42)\n",
    "\n",
    "scorer = make_scorer(accuracy_score)\n",
    "grid_search = GridSearchCV(model, param_grid, scoring=scorer, cv=5)\n",
    "grid_search.fit(X_train, y_train)\n",
    "\n",
    "print(\"Best Parameters:\", grid_search.best_params_)\n",
    "print(\"Best Accuracy: \", grid_search.best_score_)"
   ]
  },
  {
   "cell_type": "code",
   "execution_count": 63,
   "metadata": {},
   "outputs": [
    {
     "name": "stdout",
     "output_type": "stream",
     "text": [
      "Precision: 0.3103448275862069\n",
      "Recall: 0.391304347826087\n",
      "F1-score: 0.34615384615384615\n",
      "ROC AUC: 0.5826578236305576\n"
     ]
    },
    {
     "data": {
      "image/png": "[encoded data removed]",
      "text/plain": [
       "<Figure size 640x480 with 1 Axes>"
      ]
     },
     "metadata": {},
     "output_type": "display_data"
    }
   ],
   "source": [
    "# training of the model\n",
    "\n",
    "isolation_forest = IsolationForest(n_estimators=10, max_samples=0.07, contamination=0.2133)\n",
    "isolation_forest.fit(X_train_normal)\n",
    "\n",
    "# test the model\n",
    "\n",
    "anomaly_predictions = isolation_forest.predict(X_test)\n",
    "anomaly_predictions = np.array([1 if p == -1 else 0 for p in anomaly_predictions])\n",
    "\n",
    "# model evaluation\n",
    "\n",
    "precision = precision_score(y_test, anomaly_predictions)\n",
    "recall = recall_score(y_test, anomaly_predictions)\n",
    "f1 = f1_score(y_test, anomaly_predictions)\n",
    "roc_auc = roc_auc_score(y_test, anomaly_predictions)\n",
    "\n",
    "print(\"Precision:\", precision)\n",
    "print(\"Recall:\", recall)\n",
    "print(\"F1-score:\", f1)\n",
    "print(\"ROC AUC:\", roc_auc)\n",
    "\n",
    "# confusion matrix\n",
    "\n",
    "conf_matrix_test = confusion_matrix(y_test, anomaly_predictions)\n",
    "\n",
    "plt.figure()\n",
    "sns.heatmap(conf_matrix_test, annot=True, cmap='Blues', fmt='g', cbar=False)\n",
    "plt.xlabel('Predicted Labels')\n",
    "plt.ylabel('True Labels')\n",
    "plt.title('Confusion Matrix - Isolation Forest')\n",
    "plt.show()\n"
   ]
  },
  {
   "cell_type": "markdown",
   "metadata": {},
   "source": [
    "## Model selection (classification)\n",
    "1. Logistic regressiom\n",
    "2. Decision tree\n",
    "2. Random forest"
   ]
  },
  {
   "cell_type": "code",
   "execution_count": null,
   "metadata": {},
   "outputs": [],
   "source": [
    "from sklearn.model_selection import train_test_split\n",
    "from sklearn.linear_model import LogisticRegression\n",
    "from sklearn.tree import DecisionTreeClassifier\n",
    "from sklearn.ensemble import RandomForestClassifier\n",
    "from sklearn.metrics import accuracy_score\n",
    "\n",
    "# Supponiamo che X sia il tuo dataframe contenente le features e y sia la variabile di output binaria\n",
    "# Assicurati che X contenga solo le features e y sia la variabile target\n",
    "\n",
    "# Dividi il dataset in set di addestramento e di test\n",
    "X_train, X_test, y_train, y_test = train_test_split(X, y, test_size=0.2, random_state=42)\n",
    "\n",
    "# Addestramento del modello di Regressione Logistica\n",
    "logistic_model = LogisticRegression()\n",
    "logistic_model.fit(X_train, y_train)\n",
    "logistic_predictions = logistic_model.predict(X_test)\n",
    "\n",
    "# Valutazione del modello di Regressione Logistica\n",
    "logistic_accuracy = accuracy_score(y_test, logistic_predictions)\n",
    "print(\"Accuracy of Logistic Regression:\", logistic_accuracy)\n",
    "\n",
    "# Addestramento del modello di Albero Decisionale\n",
    "decision_tree_model = DecisionTreeClassifier()\n",
    "decision_tree_model.fit(X_train, y_train)\n",
    "decision_tree_predictions = decision_tree_model.predict(X_test)\n",
    "\n",
    "# Valutazione del modello di Albero Decisionale\n",
    "decision_tree_accuracy = accuracy_score(y_test, decision_tree_predictions)\n",
    "print(\"Accuracy of Decision Tree Classifier:\", decision_tree_accuracy)\n",
    "\n",
    "# Addestramento del modello di Foresta Casuale\n",
    "random_forest_model = RandomForestClassifier()\n",
    "random_forest_model.fit(X_train, y_train)\n",
    "random_forest_predictions = random_forest_model.predict(X_test)\n",
    "\n",
    "# Valutazione del modello di Foresta Casuale\n",
    "random_forest_accuracy = accuracy_score(y_test, random_forest_predictions)\n",
    "print(\"Accuracy of Random Forest Classifier:\", random_forest_accuracy)\n"
   ]
  }
 ],
 "metadata": {
  "kernelspec": {
   "display_name": "base",
   "language": "python",
   "name": "python3"
  },
  "language_info": {
   "codemirror_mode": {
    "name": "ipython",
    "version": 3
   },
   "file_extension": ".py",
   "mimetype": "text/x-python",
   "name": "python",
   "nbconvert_exporter": "python",
   "pygments_lexer": "ipython3",
   "version": "3.11.5"
  }
 },
 "nbformat": 4,
 "nbformat_minor": 2
}
